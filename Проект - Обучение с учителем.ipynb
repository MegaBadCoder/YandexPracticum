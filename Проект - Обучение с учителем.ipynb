{
 "cells": [
  {
   "cell_type": "markdown",
   "metadata": {
    "toc": true
   },
   "source": [
    "<h1>Содержание<span class=\"tocSkip\"></span></h1>\n",
    "<div class=\"toc\"><ul class=\"toc-item\"><li><span><a href=\"#Подготовка-данных\" data-toc-modified-id=\"Подготовка-данных-1\"><span class=\"toc-item-num\">1&nbsp;&nbsp;</span>Подготовка данных</a></span></li><li><span><a href=\"#Исследование-задачи\" data-toc-modified-id=\"Исследование-задачи-2\"><span class=\"toc-item-num\">2&nbsp;&nbsp;</span>Исследование задачи</a></span><ul class=\"toc-item\"><li><span><a href=\"#Случайный-лес\" data-toc-modified-id=\"Случайный-лес-2.1\"><span class=\"toc-item-num\">2.1&nbsp;&nbsp;</span>Случайный лес</a></span></li><li><span><a href=\"#Логистическая-регрессия\" data-toc-modified-id=\"Логистическая-регрессия-2.2\"><span class=\"toc-item-num\">2.2&nbsp;&nbsp;</span>Логистическая регрессия</a></span></li></ul></li><li><span><a href=\"#Борьба-с-дисбалансом\" data-toc-modified-id=\"Борьба-с-дисбалансом-3\"><span class=\"toc-item-num\">3&nbsp;&nbsp;</span>Борьба с дисбалансом</a></span><ul class=\"toc-item\"><li><span><a href=\"#Взвешивание-классов\" data-toc-modified-id=\"Взвешивание-классов-3.1\"><span class=\"toc-item-num\">3.1&nbsp;&nbsp;</span>Взвешивание классов</a></span></li><li><span><a href=\"#Увеличение-выборки\" data-toc-modified-id=\"Увеличение-выборки-3.2\"><span class=\"toc-item-num\">3.2&nbsp;&nbsp;</span>Увеличение выборки</a></span><ul class=\"toc-item\"><li><span><a href=\"#Логистическая-регрессия\" data-toc-modified-id=\"Логистическая-регрессия-3.2.1\"><span class=\"toc-item-num\">3.2.1&nbsp;&nbsp;</span>Логистическая регрессия</a></span></li><li><span><a href=\"#Рандомный-лес\" data-toc-modified-id=\"Рандомный-лес-3.2.2\"><span class=\"toc-item-num\">3.2.2&nbsp;&nbsp;</span>Рандомный лес</a></span></li></ul></li><li><span><a href=\"#Уменьшение-выборки\" data-toc-modified-id=\"Уменьшение-выборки-3.3\"><span class=\"toc-item-num\">3.3&nbsp;&nbsp;</span>Уменьшение выборки</a></span></li><li><span><a href=\"#Итог-блока\" data-toc-modified-id=\"Итог-блока-3.4\"><span class=\"toc-item-num\">3.4&nbsp;&nbsp;</span>Итог блока</a></span></li></ul></li><li><span><a href=\"#Тестирование-модели\" data-toc-modified-id=\"Тестирование-модели-4\"><span class=\"toc-item-num\">4&nbsp;&nbsp;</span>Тестирование модели</a></span><ul class=\"toc-item\"><li><span><a href=\"#Вывод\" data-toc-modified-id=\"Вывод-4.1\"><span class=\"toc-item-num\">4.1&nbsp;&nbsp;</span>Вывод</a></span><ul class=\"toc-item\"><li><span><a href=\"#Сравнение-с-константной-моделью\" data-toc-modified-id=\"Сравнение-с-константной-моделью-4.1.1\"><span class=\"toc-item-num\">4.1.1&nbsp;&nbsp;</span>Сравнение с константной моделью</a></span></li></ul></li></ul></li><li><span><a href=\"#Чек-лист-готовности-проекта\" data-toc-modified-id=\"Чек-лист-готовности-проекта-5\"><span class=\"toc-item-num\">5&nbsp;&nbsp;</span>Чек-лист готовности проекта</a></span></li></ul></div>"
   ]
  },
  {
   "cell_type": "markdown",
   "metadata": {},
   "source": [
    "# Отток клиентов"
   ]
  },
  {
   "cell_type": "markdown",
   "metadata": {},
   "source": [
    "Из «Бета-Банка» стали уходить клиенты. Каждый месяц. Немного, но заметно. Банковские маркетологи посчитали: сохранять текущих клиентов дешевле, чем привлекать новых.\n",
    "\n",
    "Нужно спрогнозировать, уйдёт клиент из банка в ближайшее время или нет. Вам предоставлены исторические данные о поведении клиентов и расторжении договоров с банком. \n",
    "\n",
    "Постройте модель с предельно большим значением *F1*-меры. Чтобы сдать проект успешно, нужно довести метрику до 0.59. Проверьте *F1*-меру на тестовой выборке самостоятельно.\n",
    "\n",
    "Дополнительно измеряйте *AUC-ROC*, сравнивайте её значение с *F1*-мерой.\n",
    "\n",
    "Источник данных: [https://www.kaggle.com/barelydedicated/bank-customer-churn-modeling](https://www.kaggle.com/barelydedicated/bank-customer-churn-modeling)"
   ]
  },
  {
   "cell_type": "markdown",
   "metadata": {},
   "source": [
    "## Подготовка данных"
   ]
  },
  {
   "cell_type": "markdown",
   "metadata": {},
   "source": [
    "Я решил использовать алгоритм классификации рандомного леса и логистическую регрессию"
   ]
  },
  {
   "cell_type": "code",
   "execution_count": 34,
   "metadata": {},
   "outputs": [],
   "source": [
    "import pandas as pd\n",
    "from sklearn.ensemble import RandomForestClassifier\n",
    "import random\n",
    "from sklearn.model_selection import train_test_split\n",
    "from sklearn.linear_model import LogisticRegression\n",
    "from sklearn.metrics import (\n",
    "    accuracy_score, \n",
    "    confusion_matrix, \n",
    "    f1_score, \n",
    "    mean_squared_error, \n",
    "    roc_auc_score,\n",
    "    roc_curve,\n",
    "    recall_score\n",
    ")\n",
    "from sklearn.preprocessing import StandardScaler\n",
    "from sklearn.utils import shuffle\n",
    "import matplotlib.pyplot as plt\n",
    "\n",
    "rs = 12345\n",
    "sep = '-------------------------------------------------'"
   ]
  },
  {
   "cell_type": "code",
   "execution_count": 2,
   "metadata": {},
   "outputs": [
    {
     "name": "stdout",
     "output_type": "stream",
     "text": [
      "Кол-во тех у кого есть признак \"Кол-во лет и ушел: 183\n",
      "Кол-во тех у кого есть признак \"Кол-во лет и остался: 726\n"
     ]
    },
    {
     "data": {
      "text/html": [
       "<div>\n",
       "<style scoped>\n",
       "    .dataframe tbody tr th:only-of-type {\n",
       "        vertical-align: middle;\n",
       "    }\n",
       "\n",
       "    .dataframe tbody tr th {\n",
       "        vertical-align: top;\n",
       "    }\n",
       "\n",
       "    .dataframe thead th {\n",
       "        text-align: right;\n",
       "    }\n",
       "</style>\n",
       "<table border=\"1\" class=\"dataframe\">\n",
       "  <thead>\n",
       "    <tr style=\"text-align: right;\">\n",
       "      <th></th>\n",
       "      <th>CreditScore</th>\n",
       "      <th>Age</th>\n",
       "      <th>Tenure</th>\n",
       "      <th>Balance</th>\n",
       "      <th>NumOfProducts</th>\n",
       "      <th>HasCrCard</th>\n",
       "      <th>IsActiveMember</th>\n",
       "      <th>EstimatedSalary</th>\n",
       "      <th>Geography_Germany</th>\n",
       "      <th>Geography_Spain</th>\n",
       "      <th>Gender_Male</th>\n",
       "    </tr>\n",
       "  </thead>\n",
       "  <tbody>\n",
       "    <tr>\n",
       "      <th>4189</th>\n",
       "      <td>598</td>\n",
       "      <td>32</td>\n",
       "      <td>4.0</td>\n",
       "      <td>111156.52</td>\n",
       "      <td>1</td>\n",
       "      <td>1</td>\n",
       "      <td>1</td>\n",
       "      <td>167376.26</td>\n",
       "      <td>0</td>\n",
       "      <td>0</td>\n",
       "      <td>0</td>\n",
       "    </tr>\n",
       "    <tr>\n",
       "      <th>9095</th>\n",
       "      <td>850</td>\n",
       "      <td>38</td>\n",
       "      <td>2.0</td>\n",
       "      <td>102741.15</td>\n",
       "      <td>2</td>\n",
       "      <td>0</td>\n",
       "      <td>1</td>\n",
       "      <td>23974.85</td>\n",
       "      <td>1</td>\n",
       "      <td>0</td>\n",
       "      <td>0</td>\n",
       "    </tr>\n",
       "    <tr>\n",
       "      <th>1987</th>\n",
       "      <td>738</td>\n",
       "      <td>54</td>\n",
       "      <td>4.0</td>\n",
       "      <td>0.00</td>\n",
       "      <td>1</td>\n",
       "      <td>0</td>\n",
       "      <td>1</td>\n",
       "      <td>55725.04</td>\n",
       "      <td>0</td>\n",
       "      <td>0</td>\n",
       "      <td>1</td>\n",
       "    </tr>\n",
       "    <tr>\n",
       "      <th>8996</th>\n",
       "      <td>615</td>\n",
       "      <td>32</td>\n",
       "      <td>5.0</td>\n",
       "      <td>138521.83</td>\n",
       "      <td>1</td>\n",
       "      <td>1</td>\n",
       "      <td>1</td>\n",
       "      <td>56897.10</td>\n",
       "      <td>0</td>\n",
       "      <td>1</td>\n",
       "      <td>1</td>\n",
       "    </tr>\n",
       "    <tr>\n",
       "      <th>3756</th>\n",
       "      <td>755</td>\n",
       "      <td>31</td>\n",
       "      <td>5.0</td>\n",
       "      <td>0.00</td>\n",
       "      <td>2</td>\n",
       "      <td>0</td>\n",
       "      <td>1</td>\n",
       "      <td>194660.78</td>\n",
       "      <td>0</td>\n",
       "      <td>0</td>\n",
       "      <td>1</td>\n",
       "    </tr>\n",
       "  </tbody>\n",
       "</table>\n",
       "</div>"
      ],
      "text/plain": [
       "      CreditScore  Age  Tenure    Balance  NumOfProducts  HasCrCard  \\\n",
       "4189          598   32     4.0  111156.52              1          1   \n",
       "9095          850   38     2.0  102741.15              2          0   \n",
       "1987          738   54     4.0       0.00              1          0   \n",
       "8996          615   32     5.0  138521.83              1          1   \n",
       "3756          755   31     5.0       0.00              2          0   \n",
       "\n",
       "      IsActiveMember  EstimatedSalary  Geography_Germany  Geography_Spain  \\\n",
       "4189               1        167376.26                  0                0   \n",
       "9095               1         23974.85                  1                0   \n",
       "1987               1         55725.04                  0                0   \n",
       "8996               1         56897.10                  0                1   \n",
       "3756               1        194660.78                  0                0   \n",
       "\n",
       "      Gender_Male  \n",
       "4189            0  \n",
       "9095            0  \n",
       "1987            1  \n",
       "8996            1  \n",
       "3756            1  "
      ]
     },
     "metadata": {},
     "output_type": "display_data"
    }
   ],
   "source": [
    "data = pd.read_csv('/datasets/Churn.csv')\n",
    "pd.options.mode.chained_assignment = None \n",
    "\n",
    "print('Кол-во тех у кого есть признак \"Кол-во лет и ушел:',data[(data['Tenure'].isna()) & (data['Exited'] == 1)].shape[0])\n",
    "print('Кол-во тех у кого есть признак \"Кол-во лет и остался:',data[(data['Tenure'].isna()) & (data['Exited'] == 0)].shape[0])\n",
    "\n",
    "data = data.dropna()\n",
    "data = data.drop(columns=['RowNumber', 'CustomerId', 'Surname'], axis=1,)\n",
    "data_ohe = pd.get_dummies(data, drop_first=True)\n",
    "\n",
    "features = data_ohe.drop(['Exited'], axis=1)\n",
    "target = data['Exited']\n",
    "\n",
    "numeric = ['CreditScore', 'Age', 'Balance', 'EstimatedSalary', 'NumOfProducts', 'Tenure']\n",
    "\n",
    "features, features_test, target, target_test = train_test_split(features, target, test_size=.10, random_state=rs)\n",
    "features_train, features_valid, target_train, target_valid = train_test_split(features, target, test_size=.25, random_state=rs)\n",
    "\n",
    "scaler = StandardScaler()\n",
    "scaler.fit(features_train[numeric])\n",
    "features_train[numeric] = scaler.transform(features_train[numeric])\n",
    "features_valid[numeric] = scaler.transform(features_valid[numeric])\n",
    "features_test[numeric] = scaler.transform(features_test[numeric])\n",
    "\n",
    "display(features.head())"
   ]
  },
  {
   "cell_type": "markdown",
   "metadata": {},
   "source": [
    "Вывод:\n",
    "\n",
    "В целом данные все на месте, за исключением того сколько лет человек является клиентом банка, скорее всего в базу записывается не число и надо об этом сообщить разработчикам, но сейчас я думаю удалить эти строки, так как меня смущает, что клиентов которые являются клиентами банка существенно больше, чем у тех кто ушел. В целом это 9% выборки, и мне кажется ~ 9000 строк хватит для обучения, но посмотрим на основе auc_roc и f1 метрик.  \n",
    "\n",
    "Также я решил удалить категориальные дискретные переменные по типу RowNumber, CustomerId, Surname так как считаю, что эти признаки никак не помогут нам в обучении модели. \n",
    "\n",
    "Разделил выборку на тестовую и валидационную"
   ]
  },
  {
   "cell_type": "markdown",
   "metadata": {},
   "source": [
    "## Исследование задачи"
   ]
  },
  {
   "cell_type": "markdown",
   "metadata": {},
   "source": [
    "### Случайный лес"
   ]
  },
  {
   "cell_type": "code",
   "execution_count": 3,
   "metadata": {},
   "outputs": [
    {
     "name": "stdout",
     "output_type": "stream",
     "text": [
      "CPU times: user 2.38 s, sys: 36.4 ms, total: 2.42 s\n",
      "Wall time: 2.43 s\n"
     ]
    }
   ],
   "source": [
    "%%time\n",
    "\n",
    "best_model = None\n",
    "best_score = 0\n",
    "best_depth = None\n",
    "best_n_est = 0\n",
    "\n",
    "for est in range(10, 51, 10):\n",
    "    for depth in range(1, 6):\n",
    "        model = RandomForestClassifier(random_state=12345, n_estimators=est, max_depth=depth)\n",
    "        model.fit(features_train, target_train)\n",
    "        predictions_valid = model.predict(features_valid)\n",
    "        score = f1_score(target_valid, predictions_valid)\n",
    "        if score > best_score:\n",
    "            best_score = score\n",
    "            best_model = model\n",
    "            best_depth = depth\n",
    "            best_n_est = est            "
   ]
  },
  {
   "cell_type": "code",
   "execution_count": 4,
   "metadata": {},
   "outputs": [
    {
     "name": "stdout",
     "output_type": "stream",
     "text": [
      "Обучающая выборка\n",
      "Метрика F1: 0.5103211009174311\n",
      "ROC AUC: 0.8609589175716386\n",
      "-------------------------------------------------\n",
      "Валидационная выборка\n",
      "Метрика F1: 0.5086887835703002\n",
      "ROC AUC: 0.8394004960016196\n",
      "-------------------------------------------------\n"
     ]
    }
   ],
   "source": [
    "def get_score_f1_auc_score(features, target, name = 'Передайте название', model = None):\n",
    "    predict = model.predict(features) if model != None else best_model.predict(features)\n",
    "    ar_score = roc_auc_score(target, model.predict_proba(features)[:, 1])\n",
    "    f1 = f1_score(target, predict)\n",
    "    print(name) \n",
    "    print(f'Метрика F1: {f1}')\n",
    "    print(f'ROC AUC: {ar_score}')\n",
    "    print(sep)\n",
    "\n",
    "get_score_f1_auc_score(features_train, target_train, 'Обучающая выборка', best_model)\n",
    "get_score_f1_auc_score(features_valid, target_valid, 'Валидационная выборка', best_model)"
   ]
  },
  {
   "cell_type": "markdown",
   "metadata": {},
   "source": [
    "Модель обучили, что можно сказать подобрали гиперпараметры, модель оказалась переобученной, но в целом метрики показали следующие результаты\n",
    "\n",
    "f1_score = 0.58\n",
    "auc_roc= 0.72\n",
    "\n",
    "Не хватило 0.01, будем работать) Посмотрим показатель на логистической регрессии."
   ]
  },
  {
   "cell_type": "markdown",
   "metadata": {},
   "source": [
    "### Логистическая регрессия"
   ]
  },
  {
   "cell_type": "code",
   "execution_count": 5,
   "metadata": {
    "scrolled": true
   },
   "outputs": [
    {
     "name": "stdout",
     "output_type": "stream",
     "text": [
      "Логистическая регрессия - Обучающая выборка\n",
      "Метрика F1: 0.2914634146341463\n",
      "ROC AUC: 0.7688070295481809\n",
      "-------------------------------------------------\n",
      "Логистическая регрессия - Валидационная выборка\n",
      "Метрика F1: 0.3222591362126246\n",
      "ROC AUC: 0.7621357312368549\n",
      "-------------------------------------------------\n",
      "CPU times: user 35.9 ms, sys: 138 ms, total: 174 ms\n",
      "Wall time: 108 ms\n"
     ]
    }
   ],
   "source": [
    "%%time\n",
    "model = LogisticRegression(solver='liblinear')\n",
    "model.fit(features_train, target_train)\n",
    "\n",
    "get_score_f1_auc_score(features_train, target_train, 'Логистическая регрессия - Обучающая выборка', model)\n",
    "get_score_f1_auc_score(features_valid, target_valid, 'Логистическая регрессия - Валидационная выборка', model)"
   ]
  },
  {
   "cell_type": "markdown",
   "metadata": {},
   "source": [
    "Вывод:\n",
    "\n",
    "Что-то на логистической регрессиии у нас совсем плохие показатели, как на обучающей выборке, так и на валидационной, но модель показывает примерно одни результаты"
   ]
  },
  {
   "cell_type": "markdown",
   "metadata": {},
   "source": [
    "## Борьба с дисбалансом"
   ]
  },
  {
   "cell_type": "markdown",
   "metadata": {},
   "source": [
    "### Взвешивание классов"
   ]
  },
  {
   "cell_type": "code",
   "execution_count": 6,
   "metadata": {},
   "outputs": [
    {
     "name": "stdout",
     "output_type": "stream",
     "text": [
      "Рандомный лес - Обучающая выборка\n",
      "Метрика F1: 0.5885596140592694\n",
      "ROC AUC: 0.8470886052335183\n",
      "-------------------------------------------------\n",
      "Рандомный лес - Валидационая выборка\n",
      "Метрика F1: 0.5875370919881305\n",
      "ROC AUC: 0.8203414088245549\n",
      "-------------------------------------------------\n",
      "Модель -  RandomForestClassifier(class_weight='balanced', max_depth=4, n_estimators=10,\n",
      "                       random_state=12345)\n",
      "-------------------------------------------------\n",
      "CPU times: user 2.5 s, sys: 54.8 ms, total: 2.55 s\n",
      "Wall time: 2.61 s\n"
     ]
    }
   ],
   "source": [
    "%%time\n",
    "\n",
    "best_model = None\n",
    "best_score = 0\n",
    "best_depth = None\n",
    "best_n_est = 0\n",
    "\n",
    "for est in range(10, 51, 10):\n",
    "    for depth in range(1, 6):\n",
    "        model = RandomForestClassifier(class_weight='balanced', random_state=12345, n_estimators=est, max_depth=depth)\n",
    "        model.fit(features_train, target_train)\n",
    "        predictions_valid = model.predict(features_valid)\n",
    "        score = f1_score(target_valid, predictions_valid)\n",
    "        if score > best_score:\n",
    "            best_score = score\n",
    "            best_model = model\n",
    "            best_depth = depth\n",
    "            best_n_est = est     \n",
    "\n",
    "get_score_f1_auc_score(features_train, target_train, 'Рандомный лес - Обучающая выборка', best_model)\n",
    "get_score_f1_auc_score(features_valid, target_valid, 'Рандомный лес - Валидационая выборка', best_model)\n",
    "print('Модель - ', best_model)\n",
    "print(sep) "
   ]
  },
  {
   "cell_type": "markdown",
   "metadata": {},
   "source": [
    "Мы немного увеличили показатели метрик, посмотрим как проявит себя логистическая регрессия"
   ]
  },
  {
   "cell_type": "code",
   "execution_count": 7,
   "metadata": {},
   "outputs": [
    {
     "name": "stdout",
     "output_type": "stream",
     "text": [
      "Логистическая регрессия - Обучающая выборка\n",
      "Метрика F1: 0.49421296296296297\n",
      "ROC AUC: 0.7726426731844404\n",
      "-------------------------------------------------\n",
      "Логистическая регрессия - Валидационая выборка\n",
      "Метрика F1: 0.5081699346405228\n",
      "ROC AUC: 0.7638242174759027\n",
      "-------------------------------------------------\n"
     ]
    }
   ],
   "source": [
    "lr_model = LogisticRegression(solver='liblinear', class_weight='balanced', random_state=rs)\n",
    "lr_model.fit(features_train, target_train)\n",
    "\n",
    "get_score_f1_auc_score(features_train, target_train, 'Логистическая регрессия - Обучающая выборка', lr_model)\n",
    "get_score_f1_auc_score(features_valid, target_valid, 'Логистическая регрессия - Валидационая выборка', lr_model)"
   ]
  },
  {
   "cell_type": "markdown",
   "metadata": {},
   "source": [
    "Ух! Обученная модель логистической регрессии с включенным балансом классов показала рост в метриках, посмотрим что будет после увеличения и уменьшения выборок, но опять немного недообучилась."
   ]
  },
  {
   "cell_type": "markdown",
   "metadata": {},
   "source": [
    "### Увеличение выборки"
   ]
  },
  {
   "cell_type": "code",
   "execution_count": 8,
   "metadata": {},
   "outputs": [
    {
     "name": "stdout",
     "output_type": "stream",
     "text": [
      "4\n"
     ]
    }
   ],
   "source": [
    "def upsample(features, target, repeat):\n",
    "    features_zeros = features[target == 0]\n",
    "    features_ones = features[target == 1]\n",
    "    target_zeros = target[target == 0]\n",
    "    target_ones = target[target == 1]\n",
    "    \n",
    "    features_upsampled = pd.concat([features_zeros] + [features_ones] * repeat)\n",
    "    target_upsampled = pd.concat([target_zeros] + [target_ones] * repeat)\n",
    "    \n",
    "    features_upsampled, target_upsampled = shuffle(\n",
    "        features_upsampled, target_upsampled, random_state=12345)\n",
    "    \n",
    "    return features_upsampled, target_upsampled\n",
    "\n",
    "features_upsampled, target_upsampled = upsample(features_train, target_train, 4)"
   ]
  },
  {
   "cell_type": "markdown",
   "metadata": {},
   "source": [
    "#### Логистическая регрессия"
   ]
  },
  {
   "cell_type": "code",
   "execution_count": 9,
   "metadata": {},
   "outputs": [
    {
     "name": "stdout",
     "output_type": "stream",
     "text": [
      "Логистическая регрессия - Обучающая выборка\n",
      "Метрика F1: 0.49421296296296297\n",
      "ROC AUC: 0.7726280155224641\n",
      "-------------------------------------------------\n",
      "Логистическая регрессия - Валидационая выборка\n",
      "Метрика F1: 0.5081699346405228\n",
      "ROC AUC: 0.7638185938747737\n",
      "-------------------------------------------------\n"
     ]
    }
   ],
   "source": [
    "lr_model = LogisticRegression(solver='liblinear', class_weight='balanced', random_state=rs)\n",
    "lr_model.fit(features_upsampled, target_upsampled)\n",
    "\n",
    "get_score_f1_auc_score(features_train, target_train, 'Логистическая регрессия - Обучающая выборка', lr_model)\n",
    "get_score_f1_auc_score(features_valid, target_valid, 'Логистическая регрессия - Валидационая выборка', lr_model)"
   ]
  },
  {
   "cell_type": "markdown",
   "metadata": {},
   "source": [
    "На логистической регрессии, мы совсем совсем немного увеличили метрики на валидационной выборке, но не хватает 0.08 для того чтобы преодолеть нормативный порог"
   ]
  },
  {
   "cell_type": "markdown",
   "metadata": {},
   "source": [
    "#### Рандомный лес"
   ]
  },
  {
   "cell_type": "code",
   "execution_count": 10,
   "metadata": {},
   "outputs": [
    {
     "name": "stdout",
     "output_type": "stream",
     "text": [
      "Рандомный лес - Обучающая выборка\n",
      "Метрика F1: 0.7397163120567377\n",
      "ROC AUC: 0.9509572952349608\n",
      "-------------------------------------------------\n",
      "Рандомный лес - Валидационая выборка\n",
      "Метрика F1: 0.6044176706827309\n",
      "ROC AUC: 0.8592342342342343\n",
      "-------------------------------------------------\n",
      "Модель -  RandomForestClassifier(class_weight='balanced', max_depth=4, n_estimators=10,\n",
      "                       random_state=12345)\n",
      "-------------------------------------------------\n"
     ]
    }
   ],
   "source": [
    "\n",
    "best_model_us = None\n",
    "best_score = 0\n",
    "best_depth = None\n",
    "best_n_est = 0\n",
    "\n",
    "for est in range(10, 100, 10):\n",
    "    for depth in range(1, 10):\n",
    "        model = RandomForestClassifier(class_weight='balanced', random_state=12345, n_estimators=est, max_depth=depth)\n",
    "        model.fit(features_upsampled, target_upsampled)\n",
    "        predictions_valid = model.predict(features_valid)\n",
    "        score = roc_auc_score(target_valid, model.predict_proba(features_valid)[:, 1])\n",
    "        if score > best_score:\n",
    "            best_score = score\n",
    "            best_model_us = model\n",
    "            best_depth = depth\n",
    "            best_n_est = est     \n",
    "\n",
    "get_score_f1_auc_score(features_train, target_train, 'Рандомный лес - Обучающая выборка', best_model_us)\n",
    "get_score_f1_auc_score(features_valid, target_valid, 'Рандомный лес - Валидационая выборка', best_model_us)\n",
    "print('Модель - ', best_model)\n",
    "print(sep) \n"
   ]
  },
  {
   "cell_type": "markdown",
   "metadata": {},
   "source": [
    "А вот рандомный лес напротив показал хорошие результаты мы увеличили показатели до рекомендуемых и AUC_ROC также на высоком уровне"
   ]
  },
  {
   "cell_type": "markdown",
   "metadata": {},
   "source": [
    "### Уменьшение выборки"
   ]
  },
  {
   "cell_type": "code",
   "execution_count": 11,
   "metadata": {},
   "outputs": [],
   "source": [
    "def downsample(features, target, fraction):\n",
    "    features_zeros = features[target == 0]\n",
    "    features_ones = features[target == 1]\n",
    "    target_zeros = target[target == 0]\n",
    "    target_ones = target[target == 1]\n",
    "\n",
    "    features_downsampled = pd.concat(\n",
    "        [features_zeros.sample(frac=fraction, random_state=12345)] + [features_ones])\n",
    "    target_downsampled = pd.concat(\n",
    "        [target_zeros.sample(frac=fraction, random_state=12345)] + [target_ones])\n",
    "    \n",
    "    features_downsampled, target_downsampled = shuffle(\n",
    "        features_downsampled, target_downsampled, random_state=12345)\n",
    "    \n",
    "    return features_downsampled, target_downsampled\n",
    "\n",
    "features_downsampled, target_downsampled = downsample(features_train, target_train, 0.25)"
   ]
  },
  {
   "cell_type": "code",
   "execution_count": 12,
   "metadata": {},
   "outputs": [
    {
     "name": "stdout",
     "output_type": "stream",
     "text": [
      "Логистическая регрессия - Обучающая выборка\n",
      "Метрика F1: 0.49244186046511634\n",
      "ROC AUC: 0.7725332404126398\n",
      "-------------------------------------------------\n",
      "Логистическая регрессия - Валидационая выборка\n",
      "Метрика F1: 0.5065789473684209\n",
      "ROC AUC: 0.763848117780702\n",
      "-------------------------------------------------\n"
     ]
    }
   ],
   "source": [
    "lr_model = LogisticRegression(solver='liblinear', class_weight='balanced', random_state=rs)\n",
    "lr_model.fit(features_downsampled, target_downsampled)\n",
    "\n",
    "get_score_f1_auc_score(features_train, target_train, 'Логистическая регрессия - Обучающая выборка', lr_model)\n",
    "get_score_f1_auc_score(features_valid, target_valid, 'Логистическая регрессия - Валидационая выборка', lr_model)"
   ]
  },
  {
   "cell_type": "markdown",
   "metadata": {},
   "source": [
    "На логистической регрессии модель в целом себя почему-то показывает плохо, даже при применении upsample и downsample"
   ]
  },
  {
   "cell_type": "code",
   "execution_count": 13,
   "metadata": {},
   "outputs": [
    {
     "name": "stdout",
     "output_type": "stream",
     "text": [
      "Рандомный лес - Обучающая выборка\n",
      "Метрика F1: 0.68324184694866\n",
      "ROC AUC: 0.9315412231752294\n",
      "-------------------------------------------------\n",
      "Рандомный лес - Валидационая выборка\n",
      "Метрика F1: 0.5961713764813127\n",
      "ROC AUC: 0.8543163950467322\n",
      "-------------------------------------------------\n",
      "Модель -  RandomForestClassifier(class_weight='balanced', max_depth=9, n_estimators=95,\n",
      "                       random_state=12345)\n",
      "-------------------------------------------------\n"
     ]
    }
   ],
   "source": [
    "best_model_ds = None\n",
    "best_score = 0\n",
    "best_depth = None\n",
    "best_n_est = 0\n",
    "\n",
    "for est in range(10, 100, 5):\n",
    "    for depth in range(1, 10):\n",
    "        model = RandomForestClassifier(class_weight='balanced', random_state=12345, n_estimators=est, max_depth=depth)\n",
    "        model.fit(features_downsampled, target_downsampled)\n",
    "        predictions_valid = model.predict(features_valid)\n",
    "        score = roc_auc_score(target_valid, model.predict_proba(features_valid)[:, 1])\n",
    "        if score > best_score:\n",
    "            best_score = score\n",
    "            best_model_ds = model\n",
    "            best_depth = depth\n",
    "            best_n_est = est     \n",
    "\n",
    "get_score_f1_auc_score(features_train, target_train, 'Рандомный лес - Обучающая выборка', best_model_ds)\n",
    "get_score_f1_auc_score(features_valid, target_valid, 'Рандомный лес - Валидационая выборка', best_model_ds)\n",
    "print('Модель - ', best_model_ds)\n",
    "print(sep) "
   ]
  },
  {
   "cell_type": "markdown",
   "metadata": {},
   "source": [
    "### Итог блока"
   ]
  },
  {
   "cell_type": "markdown",
   "metadata": {},
   "source": [
    "Лучшая модель оказалась с подобранными гиперпарметрами\n",
    "\n",
    "class_weight='balanced', max_depth=9, n_estimators=90 и обученную на увеличенной выборке!"
   ]
  },
  {
   "cell_type": "code",
   "execution_count": 14,
   "metadata": {},
   "outputs": [
    {
     "data": {
      "text/plain": [
       "RandomForestClassifier(class_weight='balanced', max_depth=9, n_estimators=95,\n",
       "                       random_state=12345)"
      ]
     },
     "execution_count": 14,
     "metadata": {},
     "output_type": "execute_result"
    }
   ],
   "source": [
    "best_model_ds"
   ]
  },
  {
   "cell_type": "code",
   "execution_count": 15,
   "metadata": {},
   "outputs": [
    {
     "data": {
      "image/png": "[encoded data removed]",
      "text/plain": [
       "<Figure size 432x288 with 1 Axes>"
      ]
     },
     "metadata": {
      "needs_background": "light"
     },
     "output_type": "display_data"
    },
    {
     "name": "stdout",
     "output_type": "stream",
     "text": [
      "Рандомный лес - Тестовая выборка\n",
      "Метрика F1: 0.6044176706827309\n",
      "ROC AUC: 0.8592342342342343\n",
      "-------------------------------------------------\n",
      "RandomForestClassifier(class_weight='balanced', max_depth=4, n_estimators=10,\n",
      "                       random_state=12345)\n"
     ]
    }
   ],
   "source": [
    "def draw_roc_auc(features, target, best_model):\n",
    "    probabilities_valid = model.predict_proba(features_valid)\n",
    "    probabilities_one_valid = probabilities_valid[:, 1]\n",
    "    \n",
    "    fpr, tpr, thresholds = roc_curve(target, probabilities_one_valid)\n",
    "    \n",
    "    plt.plot(fpr, tpr)\n",
    "    plt.xlabel('False Positive Rate')\n",
    "    plt.ylabel('True Positive Rate')\n",
    "    plt.xlim([0, 1])\n",
    "    plt.ylim([0, 1])\n",
    "    plt.title('ROC-кривая')\n",
    "    plt.show()\n",
    "    \n",
    "draw_roc_auc(features_valid, target_valid, best_model_us)\n",
    "get_score_f1_auc_score(features_valid, target_valid, 'Рандомный лес - Тестовая выборка', best_model_us)\n",
    "print(best_model)"
   ]
  },
  {
   "cell_type": "markdown",
   "metadata": {},
   "source": [
    "Лучшая модель дает показатель f1_score = 0.60, обучена на увеличенной выборке"
   ]
  },
  {
   "cell_type": "markdown",
   "metadata": {},
   "source": [
    "## Тестирование модели"
   ]
  },
  {
   "cell_type": "code",
   "execution_count": 29,
   "metadata": {},
   "outputs": [
    {
     "name": "stdout",
     "output_type": "stream",
     "text": [
      "Рандомный лес - Тестовая выборка\n",
      "Метрика F1: 0.6026785714285715\n",
      "ROC AUC: 0.8325610007661933\n",
      "-------------------------------------------------\n",
      "RandomForestClassifier(class_weight='balanced', max_depth=4, n_estimators=10,\n",
      "                       random_state=12345)\n"
     ]
    }
   ],
   "source": [
    "get_score_f1_auc_score(features_test, target_test, 'Рандомный лес - Тестовая выборка', best_model)\n",
    "\n",
    "print(best_model)"
   ]
  },
  {
   "cell_type": "markdown",
   "metadata": {},
   "source": [
    "### Вывод"
   ]
  },
  {
   "cell_type": "markdown",
   "metadata": {},
   "source": [
    "На тестовой выборке мне также удалось добиться показателя AUC_ROC = 0.83, а метрики F1-score 0.60, что соответует задаче, единственное, что я могу еще придумать оценку модели на адекватность, чтобы создать псевдовыборку и на ней проверить и какие показатели будет мне выдавать модель тогда.\n",
    "\n",
    "По итогу была выбрана модель \"рандомный лес\" со следующими параметрами\n",
    "\n",
    "class_weight='balanced', max_depth=9, n_estimators=90 и обученную на увеличенной выборке!"
   ]
  },
  {
   "cell_type": "code",
   "execution_count": 27,
   "metadata": {},
   "outputs": [
    {
     "name": "stdout",
     "output_type": "stream",
     "text": [
      "Рандомный лес - Тестовая выборка\n",
      "Метрика F1: 0.6197183098591549\n",
      "ROC AUC: 0.4454139610389611\n",
      "-------------------------------------------------\n"
     ]
    }
   ],
   "source": [
    "features_columns = features.columns\n",
    "test_features = {}\n",
    "\n",
    "for column in features_columns:\n",
    "    test_features[column] = []\n",
    "    for i in range(100):\n",
    "        test_features[column].append(random.randint (0,100))\n",
    "\n",
    "test_features = pd.DataFrame(data=test_features)\n",
    "\n",
    "test_features[numeric] = scaler.transform(test_features[numeric])\n",
    "test_target = []\n",
    "\n",
    "for i in range(0, 100):\n",
    "    test_target.append(random.randint(0, 1))\n",
    "test_target = pd.Series(test_target)\n",
    "\n",
    "get_score_f1_auc_score(test_features, test_target, 'Рандомный лес - Тестовая выборка', best_model)"
   ]
  },
  {
   "cell_type": "markdown",
   "metadata": {},
   "source": [
    "Забавно, но на псевдоданных, модель выдает тоже достаточно высокую оценку f1 метрику, но низкую AUC_ROC из чего я могу сделать вывод, что все таки модель правильно предсказывает. "
   ]
  },
  {
   "cell_type": "markdown",
   "metadata": {},
   "source": [
    "#### Сравнение с константной моделью"
   ]
  },
  {
   "cell_type": "code",
   "execution_count": 32,
   "metadata": {},
   "outputs": [
    {
     "name": "stdout",
     "output_type": "stream",
     "text": [
      "Метрика F1 для константной модели 0.3424408014571949\n",
      "Метрика F1 для лучшей и обученной модели 0.6026785714285715\n",
      "Разница в оценке 0.2602377699713766\n"
     ]
    }
   ],
   "source": [
    "constant_model = pd.Series(1, index=target_test.index)\n",
    "constant_f1 = f1_score(target_test, constant_model)\n",
    "model_f1 = f1_score(target_test, best_model.predict(features_test))\n",
    "\n",
    "print(f'Метрика F1 для константной модели {constant_f1}')\n",
    "print(f'Метрика F1 для лучшей и обученной модели {model_f1}')\n",
    "\n",
    "print(f'Разница в оценке {abs(model_f1 - constant_f1)}')\n"
   ]
  },
  {
   "cell_type": "markdown",
   "metadata": {},
   "source": [
    "f1 метрика константной модели 0.34, а обученной на тестовой выборке 0.60 из чего я могу сделать вывод, что модель справляется со своей задачей"
   ]
  },
  {
   "cell_type": "code",
   "execution_count": 36,
   "metadata": {},
   "outputs": [
    {
     "data": {
      "text/plain": [
       "0.7180851063829787"
      ]
     },
     "execution_count": 36,
     "metadata": {},
     "output_type": "execute_result"
    }
   ],
   "source": [
    "test_recall = recall_score(target_test, best_model.predict(features_test))\n",
    "test_recall"
   ]
  },
  {
   "cell_type": "markdown",
   "metadata": {},
   "source": [
    "Доля истинно положительных предсказаний из всех 73%, т.е в 73% модель верно предсказала что клиенты будут уходить из банка и эту информацию можно в атоматическом режиме передавать менеджерам банка. "
   ]
  }
 ],
 "metadata": {
  "ExecuteTimeLog": [
   {
    "duration": 513,
    "start_time": "2022-04-21T08:48:46.420Z"
   },
   {
    "duration": 45,
    "start_time": "2022-04-21T08:50:59.805Z"
   },
   {
    "duration": 117,
    "start_time": "2022-04-21T08:52:39.515Z"
   },
   {
    "duration": 1061,
    "start_time": "2022-04-21T08:52:49.359Z"
   },
   {
    "duration": 62,
    "start_time": "2022-04-21T08:53:00.811Z"
   },
   {
    "duration": 35,
    "start_time": "2022-04-21T08:53:27.943Z"
   },
   {
    "duration": 121,
    "start_time": "2022-04-21T08:58:51.014Z"
   },
   {
    "duration": 572,
    "start_time": "2022-04-21T09:02:02.312Z"
   },
   {
    "duration": 47,
    "start_time": "2022-04-21T09:02:17.497Z"
   },
   {
    "duration": 176,
    "start_time": "2022-04-21T09:04:50.575Z"
   },
   {
    "duration": 47,
    "start_time": "2022-04-21T09:05:01.843Z"
   },
   {
    "duration": 57,
    "start_time": "2022-04-21T09:05:07.321Z"
   },
   {
    "duration": 55,
    "start_time": "2022-04-21T09:05:25.473Z"
   },
   {
    "duration": 56,
    "start_time": "2022-04-21T09:05:28.228Z"
   },
   {
    "duration": 1863,
    "start_time": "2022-04-23T16:09:27.745Z"
   },
   {
    "duration": 56,
    "start_time": "2022-04-23T16:10:06.943Z"
   },
   {
    "duration": 68,
    "start_time": "2022-04-23T16:10:43.272Z"
   },
   {
    "duration": 64,
    "start_time": "2022-04-23T16:10:52.068Z"
   },
   {
    "duration": 80,
    "start_time": "2022-04-23T16:11:02.299Z"
   },
   {
    "duration": 74,
    "start_time": "2022-04-23T16:17:25.968Z"
   },
   {
    "duration": 68,
    "start_time": "2022-04-23T16:17:31.050Z"
   },
   {
    "duration": 80,
    "start_time": "2022-04-23T16:17:40.480Z"
   },
   {
    "duration": 109,
    "start_time": "2022-04-23T16:17:49.157Z"
   },
   {
    "duration": 114,
    "start_time": "2022-04-23T16:18:01.617Z"
   },
   {
    "duration": 116,
    "start_time": "2022-04-23T16:18:29.861Z"
   },
   {
    "duration": 92,
    "start_time": "2022-04-23T16:18:39.658Z"
   },
   {
    "duration": 77,
    "start_time": "2022-04-23T16:18:55.702Z"
   },
   {
    "duration": 117,
    "start_time": "2022-04-23T16:19:07.211Z"
   },
   {
    "duration": 94,
    "start_time": "2022-04-23T16:19:09.684Z"
   },
   {
    "duration": 104,
    "start_time": "2022-04-23T16:41:15.785Z"
   },
   {
    "duration": 241,
    "start_time": "2022-04-23T16:48:07.540Z"
   },
   {
    "duration": 134,
    "start_time": "2022-04-23T16:48:19.395Z"
   },
   {
    "duration": 112,
    "start_time": "2022-04-23T16:48:46.362Z"
   },
   {
    "duration": 96,
    "start_time": "2022-04-23T16:48:54.796Z"
   },
   {
    "duration": 117,
    "start_time": "2022-04-23T16:49:01.966Z"
   },
   {
    "duration": 113,
    "start_time": "2022-04-23T16:49:06.069Z"
   },
   {
    "duration": 144,
    "start_time": "2022-04-23T16:49:34.564Z"
   },
   {
    "duration": 166,
    "start_time": "2022-04-23T16:49:40.912Z"
   },
   {
    "duration": 130,
    "start_time": "2022-04-23T16:49:45.161Z"
   },
   {
    "duration": 100,
    "start_time": "2022-04-23T16:49:50.744Z"
   },
   {
    "duration": 125,
    "start_time": "2022-04-23T16:50:01.474Z"
   },
   {
    "duration": 1865,
    "start_time": "2022-04-23T16:50:10.616Z"
   },
   {
    "duration": 52,
    "start_time": "2022-04-23T16:50:13.748Z"
   },
   {
    "duration": 62,
    "start_time": "2022-04-23T16:50:22.183Z"
   },
   {
    "duration": 68,
    "start_time": "2022-04-23T16:50:35.792Z"
   },
   {
    "duration": 115,
    "start_time": "2022-04-23T16:50:50.862Z"
   },
   {
    "duration": 141,
    "start_time": "2022-04-23T16:56:40.765Z"
   },
   {
    "duration": 2544,
    "start_time": "2022-04-23T16:59:13.084Z"
   },
   {
    "duration": 2552,
    "start_time": "2022-04-23T16:59:17.974Z"
   },
   {
    "duration": 100,
    "start_time": "2022-04-23T16:59:47.765Z"
   },
   {
    "duration": 100,
    "start_time": "2022-04-23T16:59:58.107Z"
   },
   {
    "duration": 13,
    "start_time": "2022-04-23T17:02:58.469Z"
   },
   {
    "duration": 141,
    "start_time": "2022-04-23T17:03:01.679Z"
   },
   {
    "duration": 101,
    "start_time": "2022-04-23T17:03:07.854Z"
   },
   {
    "duration": 8,
    "start_time": "2022-04-23T17:03:10.535Z"
   },
   {
    "duration": 2984,
    "start_time": "2022-04-23T17:03:34.616Z"
   },
   {
    "duration": 2695,
    "start_time": "2022-04-23T17:07:04.890Z"
   },
   {
    "duration": 2785,
    "start_time": "2022-04-23T17:07:30.439Z"
   },
   {
    "duration": 2732,
    "start_time": "2022-04-23T17:07:57.217Z"
   },
   {
    "duration": 116,
    "start_time": "2022-04-23T17:08:06.721Z"
   },
   {
    "duration": 3062,
    "start_time": "2022-04-23T17:08:10.246Z"
   },
   {
    "duration": 2708,
    "start_time": "2022-04-23T17:08:30.550Z"
   },
   {
    "duration": 3644,
    "start_time": "2022-04-23T17:08:35.145Z"
   },
   {
    "duration": 2671,
    "start_time": "2022-04-23T17:08:51.619Z"
   },
   {
    "duration": 2596,
    "start_time": "2022-04-23T17:08:55.799Z"
   },
   {
    "duration": 2633,
    "start_time": "2022-04-23T17:09:42.898Z"
   },
   {
    "duration": 150,
    "start_time": "2022-04-23T17:09:53.147Z"
   },
   {
    "duration": 3219,
    "start_time": "2022-04-23T17:09:57.939Z"
   },
   {
    "duration": 102,
    "start_time": "2022-04-23T17:11:11.683Z"
   },
   {
    "duration": 145,
    "start_time": "2022-04-23T17:11:22.178Z"
   },
   {
    "duration": 2520,
    "start_time": "2022-04-23T17:11:24.062Z"
   },
   {
    "duration": 72,
    "start_time": "2022-04-24T11:41:43.922Z"
   },
   {
    "duration": 1704,
    "start_time": "2022-04-24T11:42:16.764Z"
   },
   {
    "duration": 98,
    "start_time": "2022-04-24T11:42:46.635Z"
   },
   {
    "duration": 110,
    "start_time": "2022-04-24T11:43:39.194Z"
   },
   {
    "duration": 4,
    "start_time": "2022-04-24T11:51:28.408Z"
   },
   {
    "duration": 58,
    "start_time": "2022-04-24T11:51:58.554Z"
   },
   {
    "duration": 60,
    "start_time": "2022-04-24T11:52:23.024Z"
   },
   {
    "duration": 56,
    "start_time": "2022-04-24T11:52:32.389Z"
   },
   {
    "duration": 169,
    "start_time": "2022-04-24T11:52:42.113Z"
   },
   {
    "duration": 59,
    "start_time": "2022-04-24T11:52:51.746Z"
   },
   {
    "duration": 195,
    "start_time": "2022-04-24T11:54:23.998Z"
   },
   {
    "duration": 60,
    "start_time": "2022-04-24T11:54:31.092Z"
   },
   {
    "duration": 183,
    "start_time": "2022-04-25T08:51:28.381Z"
   },
   {
    "duration": 55,
    "start_time": "2022-04-25T08:51:43.208Z"
   },
   {
    "duration": 13,
    "start_time": "2022-04-25T08:52:12.864Z"
   },
   {
    "duration": 219,
    "start_time": "2022-04-25T08:52:34.042Z"
   },
   {
    "duration": 1622,
    "start_time": "2022-04-25T08:52:37.467Z"
   },
   {
    "duration": 75,
    "start_time": "2022-04-25T08:52:42.067Z"
   },
   {
    "duration": 20,
    "start_time": "2022-04-25T08:53:31.050Z"
   },
   {
    "duration": 20,
    "start_time": "2022-04-25T08:53:41.978Z"
   },
   {
    "duration": 19,
    "start_time": "2022-04-25T08:53:52.080Z"
   },
   {
    "duration": 19,
    "start_time": "2022-04-25T08:54:14.501Z"
   },
   {
    "duration": 21,
    "start_time": "2022-04-25T08:54:58.292Z"
   },
   {
    "duration": 102,
    "start_time": "2022-04-25T08:55:20.650Z"
   },
   {
    "duration": 84,
    "start_time": "2022-04-25T08:55:49.788Z"
   },
   {
    "duration": 75,
    "start_time": "2022-04-25T08:56:13.166Z"
   },
   {
    "duration": 12549,
    "start_time": "2022-04-25T08:56:27.645Z"
   },
   {
    "duration": 11370,
    "start_time": "2022-04-25T08:57:14.843Z"
   },
   {
    "duration": 11093,
    "start_time": "2022-04-25T08:58:03.103Z"
   },
   {
    "duration": 14167,
    "start_time": "2022-04-25T08:58:23.489Z"
   },
   {
    "duration": 14215,
    "start_time": "2022-04-25T08:58:58.798Z"
   },
   {
    "duration": 11849,
    "start_time": "2022-04-25T08:59:37.395Z"
   },
   {
    "duration": 11402,
    "start_time": "2022-04-25T09:02:51.550Z"
   },
   {
    "duration": 175,
    "start_time": "2022-04-25T09:03:29.712Z"
   },
   {
    "duration": 5970,
    "start_time": "2022-04-25T09:03:34.356Z"
   },
   {
    "duration": 6641,
    "start_time": "2022-04-25T09:06:35.093Z"
   },
   {
    "duration": 34,
    "start_time": "2022-04-25T09:07:35.714Z"
   },
   {
    "duration": 6399,
    "start_time": "2022-04-25T09:07:49.864Z"
   },
   {
    "duration": 6892,
    "start_time": "2022-04-25T09:08:05.485Z"
   },
   {
    "duration": 6014,
    "start_time": "2022-04-25T09:08:46.137Z"
   },
   {
    "duration": 7053,
    "start_time": "2022-04-25T09:08:56.258Z"
   },
   {
    "duration": 203,
    "start_time": "2022-04-25T16:26:10.499Z"
   },
   {
    "duration": 51,
    "start_time": "2022-04-25T16:26:14.858Z"
   },
   {
    "duration": 1393,
    "start_time": "2022-04-25T16:26:20.730Z"
   },
   {
    "duration": 6716,
    "start_time": "2022-04-25T16:26:24.092Z"
   },
   {
    "duration": 6755,
    "start_time": "2022-04-25T16:27:02.559Z"
   },
   {
    "duration": 6772,
    "start_time": "2022-04-25T16:27:14.571Z"
   },
   {
    "duration": 6968,
    "start_time": "2022-04-25T16:27:43.219Z"
   },
   {
    "duration": 6485,
    "start_time": "2022-04-25T16:29:15.304Z"
   },
   {
    "duration": 0,
    "start_time": "2022-04-25T16:29:49.295Z"
   },
   {
    "duration": 6817,
    "start_time": "2022-04-25T16:29:52.477Z"
   },
   {
    "duration": 9,
    "start_time": "2022-04-25T16:34:05.361Z"
   },
   {
    "duration": 9,
    "start_time": "2022-04-25T16:35:18.488Z"
   },
   {
    "duration": 10,
    "start_time": "2022-04-25T16:35:26.163Z"
   },
   {
    "duration": 6146,
    "start_time": "2022-04-25T16:35:33.048Z"
   },
   {
    "duration": 6888,
    "start_time": "2022-04-25T16:36:35.593Z"
   },
   {
    "duration": 6721,
    "start_time": "2022-04-25T16:36:46.062Z"
   },
   {
    "duration": 6789,
    "start_time": "2022-04-25T16:36:57.894Z"
   },
   {
    "duration": 6724,
    "start_time": "2022-04-25T16:37:09.981Z"
   },
   {
    "duration": 6718,
    "start_time": "2022-04-25T16:37:59.104Z"
   },
   {
    "duration": 6594,
    "start_time": "2022-04-25T16:38:31.351Z"
   },
   {
    "duration": 6621,
    "start_time": "2022-04-25T16:38:38.998Z"
   },
   {
    "duration": 6645,
    "start_time": "2022-04-25T16:38:50.978Z"
   },
   {
    "duration": 142,
    "start_time": "2022-04-25T16:42:24.985Z"
   },
   {
    "duration": 160,
    "start_time": "2022-04-25T16:42:29.931Z"
   },
   {
    "duration": 143,
    "start_time": "2022-04-25T16:42:33.508Z"
   },
   {
    "duration": 10,
    "start_time": "2022-04-25T16:42:38.171Z"
   },
   {
    "duration": 13,
    "start_time": "2022-04-25T16:42:44.433Z"
   },
   {
    "duration": 12,
    "start_time": "2022-04-25T16:42:52.974Z"
   },
   {
    "duration": 13,
    "start_time": "2022-04-25T16:43:22.897Z"
   },
   {
    "duration": 7,
    "start_time": "2022-04-25T16:43:39.721Z"
   },
   {
    "duration": 140,
    "start_time": "2022-04-25T16:43:56.901Z"
   },
   {
    "duration": 8,
    "start_time": "2022-04-25T16:44:05.596Z"
   },
   {
    "duration": 196,
    "start_time": "2022-04-25T16:44:11.294Z"
   },
   {
    "duration": 5,
    "start_time": "2022-04-25T16:44:20.001Z"
   },
   {
    "duration": 4,
    "start_time": "2022-04-25T16:44:33.441Z"
   },
   {
    "duration": 4,
    "start_time": "2022-04-25T16:44:37.074Z"
   },
   {
    "duration": 5,
    "start_time": "2022-04-25T16:44:40.327Z"
   },
   {
    "duration": 9,
    "start_time": "2022-04-25T16:44:49.798Z"
   },
   {
    "duration": 15,
    "start_time": "2022-04-25T16:46:48.177Z"
   },
   {
    "duration": 14,
    "start_time": "2022-04-25T16:47:27.303Z"
   },
   {
    "duration": 14,
    "start_time": "2022-04-25T16:47:29.662Z"
   },
   {
    "duration": 82,
    "start_time": "2022-04-25T16:47:33.251Z"
   },
   {
    "duration": 14,
    "start_time": "2022-04-25T16:47:44.890Z"
   },
   {
    "duration": 14,
    "start_time": "2022-04-25T16:48:24.012Z"
   },
   {
    "duration": 55,
    "start_time": "2022-04-25T16:51:50.657Z"
   },
   {
    "duration": 11,
    "start_time": "2022-04-25T16:51:52.509Z"
   },
   {
    "duration": 10,
    "start_time": "2022-04-25T16:51:59.506Z"
   },
   {
    "duration": 1373,
    "start_time": "2022-04-25T16:52:03.391Z"
   },
   {
    "duration": 6653,
    "start_time": "2022-04-25T16:52:06.104Z"
   },
   {
    "duration": 0,
    "start_time": "2022-04-25T16:54:20.829Z"
   },
   {
    "duration": 33,
    "start_time": "2022-04-25T16:54:29.999Z"
   },
   {
    "duration": 32,
    "start_time": "2022-04-25T16:54:32.102Z"
   },
   {
    "duration": 1293,
    "start_time": "2022-04-25T16:58:23.861Z"
   },
   {
    "duration": 6602,
    "start_time": "2022-04-25T16:58:26.228Z"
   },
   {
    "duration": 3,
    "start_time": "2022-04-25T16:58:35.010Z"
   },
   {
    "duration": 119,
    "start_time": "2022-04-25T16:58:36.717Z"
   },
   {
    "duration": 18991,
    "start_time": "2022-04-25T16:58:47.596Z"
   },
   {
    "duration": 19492,
    "start_time": "2022-04-25T16:59:30.991Z"
   },
   {
    "duration": 14700,
    "start_time": "2022-04-25T17:00:38.678Z"
   },
   {
    "duration": 13354,
    "start_time": "2022-04-25T17:01:40.356Z"
   },
   {
    "duration": 13596,
    "start_time": "2022-04-25T17:02:54.254Z"
   },
   {
    "duration": 6313,
    "start_time": "2022-04-25T17:03:37.071Z"
   },
   {
    "duration": 13672,
    "start_time": "2022-04-25T17:04:13.979Z"
   },
   {
    "duration": 13252,
    "start_time": "2022-04-25T17:05:14.779Z"
   },
   {
    "duration": 54,
    "start_time": "2022-04-26T08:11:40.654Z"
   },
   {
    "duration": 1253,
    "start_time": "2022-04-26T08:11:45.493Z"
   },
   {
    "duration": 6014,
    "start_time": "2022-04-26T08:11:46.748Z"
   },
   {
    "duration": 12644,
    "start_time": "2022-04-26T08:11:52.763Z"
   },
   {
    "duration": 12330,
    "start_time": "2022-04-26T08:21:40.222Z"
   },
   {
    "duration": 5887,
    "start_time": "2022-04-26T08:23:38.308Z"
   },
   {
    "duration": 12547,
    "start_time": "2022-04-26T08:25:00.794Z"
   },
   {
    "duration": 5962,
    "start_time": "2022-04-26T08:25:31.216Z"
   },
   {
    "duration": 13041,
    "start_time": "2022-04-26T08:27:51.698Z"
   },
   {
    "duration": 13068,
    "start_time": "2022-04-26T08:28:24.557Z"
   },
   {
    "duration": 6234,
    "start_time": "2022-04-26T08:29:04.415Z"
   },
   {
    "duration": 12465,
    "start_time": "2022-04-26T08:29:36.524Z"
   },
   {
    "duration": 145,
    "start_time": "2022-04-26T08:30:42.594Z"
   },
   {
    "duration": 141,
    "start_time": "2022-04-26T08:30:52.082Z"
   },
   {
    "duration": 6204,
    "start_time": "2022-04-26T08:30:58.114Z"
   },
   {
    "duration": 5845,
    "start_time": "2022-04-26T08:31:29.117Z"
   },
   {
    "duration": 5930,
    "start_time": "2022-04-26T08:31:58.006Z"
   },
   {
    "duration": 0,
    "start_time": "2022-04-26T08:32:27.291Z"
   },
   {
    "duration": 12216,
    "start_time": "2022-04-26T08:32:37.605Z"
   },
   {
    "duration": 12522,
    "start_time": "2022-04-26T08:33:11.780Z"
   },
   {
    "duration": 12270,
    "start_time": "2022-04-26T08:33:44.392Z"
   },
   {
    "duration": 12847,
    "start_time": "2022-04-26T08:34:00.903Z"
   },
   {
    "duration": 18988,
    "start_time": "2022-04-26T08:35:30.799Z"
   },
   {
    "duration": 2,
    "start_time": "2022-04-26T08:37:56.206Z"
   },
   {
    "duration": 5,
    "start_time": "2022-04-26T08:45:08.514Z"
   },
   {
    "duration": 22,
    "start_time": "2022-04-26T08:46:41.177Z"
   },
   {
    "duration": 90,
    "start_time": "2022-04-26T08:46:46.404Z"
   },
   {
    "duration": 6348,
    "start_time": "2022-04-26T08:46:48.468Z"
   },
   {
    "duration": 13448,
    "start_time": "2022-04-26T08:46:54.818Z"
   },
   {
    "duration": 4,
    "start_time": "2022-04-26T08:47:10.204Z"
   },
   {
    "duration": 6,
    "start_time": "2022-04-26T08:47:10.471Z"
   },
   {
    "duration": 21,
    "start_time": "2022-04-26T08:47:12.323Z"
   },
   {
    "duration": 33,
    "start_time": "2022-04-26T08:47:25.289Z"
   },
   {
    "duration": 11,
    "start_time": "2022-04-26T08:48:48.636Z"
   },
   {
    "duration": 13,
    "start_time": "2022-04-26T08:49:05.005Z"
   },
   {
    "duration": 15,
    "start_time": "2022-04-26T08:49:13.228Z"
   },
   {
    "duration": 1335,
    "start_time": "2022-04-26T08:49:19.475Z"
   },
   {
    "duration": 6697,
    "start_time": "2022-04-26T08:49:20.812Z"
   },
   {
    "duration": 13770,
    "start_time": "2022-04-26T08:49:27.512Z"
   },
   {
    "duration": 20670,
    "start_time": "2022-04-26T08:49:41.283Z"
   },
   {
    "duration": 5,
    "start_time": "2022-04-26T08:50:01.956Z"
   },
   {
    "duration": 23,
    "start_time": "2022-04-26T08:50:01.964Z"
   },
   {
    "duration": 126,
    "start_time": "2022-04-26T08:50:01.990Z"
   },
   {
    "duration": 14,
    "start_time": "2022-04-26T08:50:37.087Z"
   },
   {
    "duration": 26,
    "start_time": "2022-04-26T08:50:53.303Z"
   },
   {
    "duration": 33,
    "start_time": "2022-04-26T08:50:56.083Z"
   },
   {
    "duration": 13040,
    "start_time": "2022-04-26T08:53:32.268Z"
   },
   {
    "duration": 13171,
    "start_time": "2022-04-26T08:54:01.894Z"
   },
   {
    "duration": 18891,
    "start_time": "2022-04-26T08:55:16.285Z"
   },
   {
    "duration": 31637,
    "start_time": "2022-04-26T08:56:18.639Z"
   },
   {
    "duration": 21121,
    "start_time": "2022-04-26T09:01:41.286Z"
   },
   {
    "duration": 53,
    "start_time": "2022-04-27T06:40:18.514Z"
   },
   {
    "duration": 1208,
    "start_time": "2022-04-27T06:40:21.948Z"
   },
   {
    "duration": 5955,
    "start_time": "2022-04-27T06:40:23.159Z"
   },
   {
    "duration": 11897,
    "start_time": "2022-04-27T06:40:29.115Z"
   },
   {
    "duration": 17987,
    "start_time": "2022-04-27T06:40:41.015Z"
   },
   {
    "duration": 3,
    "start_time": "2022-04-27T06:40:59.008Z"
   },
   {
    "duration": 6,
    "start_time": "2022-04-27T06:40:59.013Z"
   },
   {
    "duration": 19999,
    "start_time": "2022-04-27T06:40:59.021Z"
   },
   {
    "duration": 5,
    "start_time": "2022-04-27T06:41:19.022Z"
   },
   {
    "duration": 71,
    "start_time": "2022-04-27T06:45:22.752Z"
   },
   {
    "duration": 1219,
    "start_time": "2022-04-27T06:45:33.250Z"
   },
   {
    "duration": 5944,
    "start_time": "2022-04-27T06:45:34.471Z"
   },
   {
    "duration": 11060,
    "start_time": "2022-04-27T06:45:40.416Z"
   },
   {
    "duration": 17557,
    "start_time": "2022-04-27T06:45:51.478Z"
   },
   {
    "duration": 6,
    "start_time": "2022-04-27T06:46:09.036Z"
   },
   {
    "duration": 7,
    "start_time": "2022-04-27T06:46:09.044Z"
   },
   {
    "duration": 19371,
    "start_time": "2022-04-27T06:46:09.053Z"
   },
   {
    "duration": 136,
    "start_time": "2022-04-27T06:47:30.193Z"
   },
   {
    "duration": 37,
    "start_time": "2022-04-27T06:47:37.750Z"
   },
   {
    "duration": 70,
    "start_time": "2022-04-27T06:47:52.407Z"
   },
   {
    "duration": 13273,
    "start_time": "2022-04-27T06:49:24.550Z"
   },
   {
    "duration": 18554,
    "start_time": "2022-04-27T06:49:52.298Z"
   },
   {
    "duration": 10,
    "start_time": "2022-04-27T06:53:14.829Z"
   },
   {
    "duration": 10,
    "start_time": "2022-04-27T06:53:31.360Z"
   },
   {
    "duration": 78,
    "start_time": "2022-04-27T06:54:09.511Z"
   },
   {
    "duration": 71,
    "start_time": "2022-04-27T06:54:11.787Z"
   },
   {
    "duration": 166410,
    "start_time": "2022-04-27T06:54:15.782Z"
   },
   {
    "duration": 3666,
    "start_time": "2022-04-27T06:58:19.623Z"
   },
   {
    "duration": 170645,
    "start_time": "2022-04-27T06:59:08.300Z"
   },
   {
    "duration": 205715,
    "start_time": "2022-04-27T07:04:47.930Z"
   },
   {
    "duration": 127,
    "start_time": "2022-04-27T07:09:32.499Z"
   },
   {
    "duration": 12441,
    "start_time": "2022-04-27T07:09:34.994Z"
   },
   {
    "duration": 1150,
    "start_time": "2022-04-27T18:14:02.479Z"
   },
   {
    "duration": 91,
    "start_time": "2022-04-27T18:14:09.509Z"
   },
   {
    "duration": 5,
    "start_time": "2022-04-27T18:14:48.442Z"
   },
   {
    "duration": 5,
    "start_time": "2022-04-27T18:14:58.819Z"
   },
   {
    "duration": 5,
    "start_time": "2022-04-27T18:15:03.311Z"
   },
   {
    "duration": 3,
    "start_time": "2022-04-27T18:15:36.583Z"
   },
   {
    "duration": 4,
    "start_time": "2022-04-27T18:15:52.303Z"
   },
   {
    "duration": 4,
    "start_time": "2022-04-27T18:16:16.918Z"
   },
   {
    "duration": 4,
    "start_time": "2022-04-27T18:16:42.287Z"
   },
   {
    "duration": 4,
    "start_time": "2022-04-27T18:17:26.861Z"
   },
   {
    "duration": 4,
    "start_time": "2022-04-27T18:17:55.777Z"
   },
   {
    "duration": 4,
    "start_time": "2022-04-27T18:18:21.373Z"
   },
   {
    "duration": 102,
    "start_time": "2022-04-27T18:19:53.048Z"
   },
   {
    "duration": 15,
    "start_time": "2022-04-27T18:20:22.955Z"
   },
   {
    "duration": 15,
    "start_time": "2022-04-27T18:20:29.960Z"
   },
   {
    "duration": 16627,
    "start_time": "2022-04-27T18:20:37.121Z"
   },
   {
    "duration": 1599,
    "start_time": "2022-04-27T18:27:20.715Z"
   },
   {
    "duration": 1580,
    "start_time": "2022-04-27T18:27:24.896Z"
   },
   {
    "duration": 1599,
    "start_time": "2022-04-27T18:27:44.458Z"
   },
   {
    "duration": 1647,
    "start_time": "2022-04-27T18:27:59.898Z"
   },
   {
    "duration": 9802,
    "start_time": "2022-04-27T18:28:22.562Z"
   },
   {
    "duration": 1603,
    "start_time": "2022-04-27T18:29:09.564Z"
   },
   {
    "duration": 2147,
    "start_time": "2022-04-27T18:30:22.452Z"
   },
   {
    "duration": 1567,
    "start_time": "2022-04-27T18:30:32.020Z"
   },
   {
    "duration": 1865,
    "start_time": "2022-04-27T18:31:23.553Z"
   },
   {
    "duration": 1637,
    "start_time": "2022-04-27T18:31:54.527Z"
   },
   {
    "duration": 9460,
    "start_time": "2022-04-27T18:32:50.695Z"
   },
   {
    "duration": 62,
    "start_time": "2022-04-27T18:33:56.958Z"
   },
   {
    "duration": 1708,
    "start_time": "2022-04-27T18:34:00.030Z"
   },
   {
    "duration": 10316,
    "start_time": "2022-04-27T18:34:03.690Z"
   },
   {
    "duration": 66,
    "start_time": "2022-04-27T18:38:42.259Z"
   },
   {
    "duration": 64,
    "start_time": "2022-04-27T18:38:47.021Z"
   },
   {
    "duration": 1416,
    "start_time": "2022-04-27T18:38:50.108Z"
   },
   {
    "duration": 7263,
    "start_time": "2022-04-27T18:38:58.650Z"
   },
   {
    "duration": 2107,
    "start_time": "2022-04-27T18:41:46.151Z"
   },
   {
    "duration": 12717,
    "start_time": "2022-04-27T18:42:13.986Z"
   },
   {
    "duration": 2111,
    "start_time": "2022-05-12T08:55:07.953Z"
   },
   {
    "duration": 155,
    "start_time": "2022-05-12T08:55:10.272Z"
   },
   {
    "duration": 153,
    "start_time": "2022-05-12T08:56:30.477Z"
   },
   {
    "duration": 138,
    "start_time": "2022-05-12T08:59:03.755Z"
   },
   {
    "duration": 327,
    "start_time": "2022-05-12T09:03:06.599Z"
   },
   {
    "duration": 2176,
    "start_time": "2022-05-12T09:03:12.969Z"
   },
   {
    "duration": 15515,
    "start_time": "2022-05-12T09:03:15.148Z"
   },
   {
    "duration": 2308,
    "start_time": "2022-05-12T09:03:57.175Z"
   },
   {
    "duration": 2280,
    "start_time": "2022-05-12T09:03:59.633Z"
   },
   {
    "duration": 2258,
    "start_time": "2022-05-12T09:04:10.533Z"
   },
   {
    "duration": 2370,
    "start_time": "2022-05-12T09:04:30.376Z"
   },
   {
    "duration": 2264,
    "start_time": "2022-05-12T09:04:49.140Z"
   },
   {
    "duration": 2344,
    "start_time": "2022-05-12T09:06:34.405Z"
   },
   {
    "duration": 15766,
    "start_time": "2022-05-12T09:06:36.752Z"
   },
   {
    "duration": 3273,
    "start_time": "2022-05-12T09:09:53.884Z"
   },
   {
    "duration": 3261,
    "start_time": "2022-05-12T09:10:32.445Z"
   },
   {
    "duration": 9156,
    "start_time": "2022-05-12T09:11:18.609Z"
   },
   {
    "duration": 9314,
    "start_time": "2022-05-12T09:11:54.422Z"
   },
   {
    "duration": 3222,
    "start_time": "2022-05-12T09:12:53.972Z"
   },
   {
    "duration": 18422,
    "start_time": "2022-05-12T09:12:57.196Z"
   },
   {
    "duration": 3404,
    "start_time": "2022-05-12T09:13:21.362Z"
   },
   {
    "duration": 18363,
    "start_time": "2022-05-12T09:13:56.115Z"
   },
   {
    "duration": 3418,
    "start_time": "2022-05-12T09:14:14.481Z"
   },
   {
    "duration": 6,
    "start_time": "2022-05-12T09:19:42.737Z"
   },
   {
    "duration": 6,
    "start_time": "2022-05-12T09:20:18.785Z"
   },
   {
    "duration": 16,
    "start_time": "2022-05-12T09:20:20.346Z"
   },
   {
    "duration": 1157,
    "start_time": "2022-05-12T09:20:54.280Z"
   },
   {
    "duration": 1095,
    "start_time": "2022-05-12T09:21:27.630Z"
   },
   {
    "duration": 1103,
    "start_time": "2022-05-12T09:21:51.565Z"
   },
   {
    "duration": 7405,
    "start_time": "2022-05-12T09:21:56.568Z"
   },
   {
    "duration": 7783,
    "start_time": "2022-05-12T09:22:54.335Z"
   },
   {
    "duration": 7742,
    "start_time": "2022-05-12T09:23:57.683Z"
   },
   {
    "duration": 6,
    "start_time": "2022-05-12T09:26:49.122Z"
   },
   {
    "duration": 6,
    "start_time": "2022-05-12T09:27:04.743Z"
   },
   {
    "duration": 18,
    "start_time": "2022-05-12T09:27:08.944Z"
   },
   {
    "duration": 5468,
    "start_time": "2022-05-12T09:27:34.519Z"
   },
   {
    "duration": 18210,
    "start_time": "2022-05-12T09:27:44.972Z"
   },
   {
    "duration": 204,
    "start_time": "2022-05-12T09:29:25.466Z"
   },
   {
    "duration": 3478,
    "start_time": "2022-05-12T09:29:29.920Z"
   },
   {
    "duration": 18520,
    "start_time": "2022-05-12T09:29:33.400Z"
   },
   {
    "duration": 1876,
    "start_time": "2022-05-12T09:32:20.517Z"
   },
   {
    "duration": 2508,
    "start_time": "2022-05-12T09:32:22.396Z"
   },
   {
    "duration": 12728,
    "start_time": "2022-05-12T09:32:24.906Z"
   },
   {
    "duration": 3476,
    "start_time": "2022-05-12T09:32:37.636Z"
   },
   {
    "duration": 20456,
    "start_time": "2022-05-12T09:32:41.115Z"
   },
   {
    "duration": 8,
    "start_time": "2022-05-12T09:33:01.574Z"
   },
   {
    "duration": 59,
    "start_time": "2022-05-12T09:33:01.586Z"
   },
   {
    "duration": 1760,
    "start_time": "2022-05-12T09:33:01.649Z"
   },
   {
    "duration": 7895,
    "start_time": "2022-05-12T09:33:03.411Z"
   },
   {
    "duration": 28,
    "start_time": "2022-05-12T09:33:11.309Z"
   },
   {
    "duration": 5111,
    "start_time": "2022-05-12T09:33:11.339Z"
   },
   {
    "duration": 20067,
    "start_time": "2022-05-12T09:33:16.453Z"
   },
   {
    "duration": 2572,
    "start_time": "2022-05-12T09:35:56.125Z"
   },
   {
    "duration": 2334,
    "start_time": "2022-05-12T09:35:58.699Z"
   },
   {
    "duration": 13244,
    "start_time": "2022-05-12T09:36:01.035Z"
   },
   {
    "duration": 3454,
    "start_time": "2022-05-12T09:36:14.281Z"
   },
   {
    "duration": 20355,
    "start_time": "2022-05-12T09:36:17.738Z"
   },
   {
    "duration": 6,
    "start_time": "2022-05-12T09:36:38.096Z"
   },
   {
    "duration": 41,
    "start_time": "2022-05-12T09:36:38.105Z"
   },
   {
    "duration": 1760,
    "start_time": "2022-05-12T09:36:38.149Z"
   },
   {
    "duration": 9780,
    "start_time": "2022-05-12T09:36:39.912Z"
   },
   {
    "duration": 42,
    "start_time": "2022-05-12T09:36:49.695Z"
   },
   {
    "duration": 5500,
    "start_time": "2022-05-12T09:36:49.741Z"
   },
   {
    "duration": 20554,
    "start_time": "2022-05-12T09:36:55.243Z"
   },
   {
    "duration": 183,
    "start_time": "2022-05-12T09:37:41.666Z"
   },
   {
    "duration": 101,
    "start_time": "2022-05-12T09:40:06.694Z"
   },
   {
    "duration": 148,
    "start_time": "2022-05-12T09:40:17.956Z"
   },
   {
    "duration": 111,
    "start_time": "2022-05-12T09:40:39.919Z"
   },
   {
    "duration": 100,
    "start_time": "2022-05-12T09:40:52.177Z"
   },
   {
    "duration": 1322,
    "start_time": "2022-05-18T09:41:44.460Z"
   },
   {
    "duration": 1731,
    "start_time": "2022-05-18T09:41:45.785Z"
   },
   {
    "duration": 8568,
    "start_time": "2022-05-18T09:41:47.518Z"
   },
   {
    "duration": 2608,
    "start_time": "2022-05-18T09:41:56.088Z"
   },
   {
    "duration": 14743,
    "start_time": "2022-05-18T09:41:58.698Z"
   },
   {
    "duration": 4,
    "start_time": "2022-05-18T09:42:13.443Z"
   },
   {
    "duration": 13,
    "start_time": "2022-05-18T09:42:13.448Z"
   },
   {
    "duration": 853,
    "start_time": "2022-05-18T09:42:13.462Z"
   },
   {
    "duration": 5994,
    "start_time": "2022-05-18T09:42:14.317Z"
   },
   {
    "duration": 17,
    "start_time": "2022-05-18T09:42:20.314Z"
   },
   {
    "duration": 3090,
    "start_time": "2022-05-18T09:42:20.333Z"
   },
   {
    "duration": 13531,
    "start_time": "2022-05-18T09:42:23.425Z"
   },
   {
    "duration": 1101,
    "start_time": "2022-05-18T09:49:31.270Z"
   },
   {
    "duration": 127,
    "start_time": "2022-05-18T09:49:32.373Z"
   },
   {
    "duration": 28,
    "start_time": "2022-05-18T09:49:32.502Z"
   },
   {
    "duration": 46,
    "start_time": "2022-05-18T09:49:32.532Z"
   },
   {
    "duration": 28,
    "start_time": "2022-05-18T09:49:32.579Z"
   },
   {
    "duration": 4,
    "start_time": "2022-05-18T09:49:32.608Z"
   },
   {
    "duration": 16,
    "start_time": "2022-05-18T09:49:32.614Z"
   },
   {
    "duration": 44,
    "start_time": "2022-05-18T09:49:32.632Z"
   },
   {
    "duration": 19,
    "start_time": "2022-05-18T09:49:32.678Z"
   },
   {
    "duration": 16,
    "start_time": "2022-05-18T09:49:32.699Z"
   },
   {
    "duration": 28,
    "start_time": "2022-05-18T09:49:32.717Z"
   },
   {
    "duration": 53,
    "start_time": "2022-05-18T09:49:32.747Z"
   },
   {
    "duration": 20,
    "start_time": "2022-05-18T09:50:07.201Z"
   },
   {
    "duration": 20,
    "start_time": "2022-05-18T09:50:07.920Z"
   },
   {
    "duration": 100,
    "start_time": "2022-05-18T09:50:52.836Z"
   },
   {
    "duration": 1024,
    "start_time": "2022-05-18T09:50:57.538Z"
   },
   {
    "duration": 1731,
    "start_time": "2022-05-18T09:50:58.564Z"
   },
   {
    "duration": 9845,
    "start_time": "2022-05-18T09:51:00.297Z"
   },
   {
    "duration": 2530,
    "start_time": "2022-05-18T09:51:10.144Z"
   },
   {
    "duration": 14459,
    "start_time": "2022-05-18T09:51:12.675Z"
   },
   {
    "duration": 5,
    "start_time": "2022-05-18T09:51:27.137Z"
   },
   {
    "duration": 18,
    "start_time": "2022-05-18T09:51:27.144Z"
   },
   {
    "duration": 858,
    "start_time": "2022-05-18T09:51:27.164Z"
   },
   {
    "duration": 5861,
    "start_time": "2022-05-18T09:51:28.023Z"
   },
   {
    "duration": 15,
    "start_time": "2022-05-18T09:51:33.886Z"
   },
   {
    "duration": 3183,
    "start_time": "2022-05-18T09:51:33.903Z"
   },
   {
    "duration": 14024,
    "start_time": "2022-05-18T09:51:37.088Z"
   },
   {
    "duration": 3143,
    "start_time": "2022-05-18T09:53:09.679Z"
   },
   {
    "duration": 13934,
    "start_time": "2022-05-18T09:53:28.423Z"
   },
   {
    "duration": 92,
    "start_time": "2022-05-18T09:55:32.426Z"
   },
   {
    "duration": 1067,
    "start_time": "2022-05-18T09:55:39.225Z"
   },
   {
    "duration": 1867,
    "start_time": "2022-05-18T09:55:40.295Z"
   },
   {
    "duration": 11373,
    "start_time": "2022-05-18T09:55:42.164Z"
   },
   {
    "duration": 2491,
    "start_time": "2022-05-18T09:55:53.539Z"
   },
   {
    "duration": 14425,
    "start_time": "2022-05-18T09:55:56.032Z"
   },
   {
    "duration": 4,
    "start_time": "2022-05-18T09:56:10.459Z"
   },
   {
    "duration": 14,
    "start_time": "2022-05-18T09:56:10.475Z"
   },
   {
    "duration": 863,
    "start_time": "2022-05-18T09:56:10.491Z"
   },
   {
    "duration": 5696,
    "start_time": "2022-05-18T09:56:11.356Z"
   },
   {
    "duration": 25,
    "start_time": "2022-05-18T09:56:17.054Z"
   },
   {
    "duration": 1104,
    "start_time": "2022-05-18T09:56:22.205Z"
   },
   {
    "duration": 1527,
    "start_time": "2022-05-18T09:56:23.311Z"
   },
   {
    "duration": 11723,
    "start_time": "2022-05-18T09:56:24.840Z"
   },
   {
    "duration": 2324,
    "start_time": "2022-05-18T09:56:36.565Z"
   },
   {
    "duration": 13202,
    "start_time": "2022-05-18T09:56:38.890Z"
   },
   {
    "duration": 4,
    "start_time": "2022-05-18T09:56:52.094Z"
   },
   {
    "duration": 14,
    "start_time": "2022-05-18T09:56:52.100Z"
   },
   {
    "duration": 914,
    "start_time": "2022-05-18T09:56:52.116Z"
   },
   {
    "duration": 5662,
    "start_time": "2022-05-18T09:56:53.033Z"
   },
   {
    "duration": 19,
    "start_time": "2022-05-18T09:56:58.698Z"
   },
   {
    "duration": 2985,
    "start_time": "2022-05-18T09:56:58.719Z"
   },
   {
    "duration": 12832,
    "start_time": "2022-05-18T09:57:01.706Z"
   },
   {
    "duration": 108,
    "start_time": "2022-05-18T10:01:40.770Z"
   },
   {
    "duration": 1050,
    "start_time": "2022-05-18T10:01:47.626Z"
   },
   {
    "duration": 1621,
    "start_time": "2022-05-18T10:01:48.679Z"
   },
   {
    "duration": 11391,
    "start_time": "2022-05-18T10:01:50.301Z"
   },
   {
    "duration": 2457,
    "start_time": "2022-05-18T10:02:01.695Z"
   },
   {
    "duration": 12878,
    "start_time": "2022-05-18T10:02:04.154Z"
   },
   {
    "duration": 6,
    "start_time": "2022-05-18T10:02:17.034Z"
   },
   {
    "duration": 17,
    "start_time": "2022-05-18T10:02:17.042Z"
   },
   {
    "duration": 826,
    "start_time": "2022-05-18T10:02:17.061Z"
   },
   {
    "duration": 5508,
    "start_time": "2022-05-18T10:02:17.889Z"
   },
   {
    "duration": 15,
    "start_time": "2022-05-18T10:02:23.400Z"
   },
   {
    "duration": 2963,
    "start_time": "2022-05-18T10:02:23.417Z"
   },
   {
    "duration": 13197,
    "start_time": "2022-05-18T10:02:26.382Z"
   },
   {
    "duration": 155,
    "start_time": "2022-05-18T10:05:55.958Z"
   },
   {
    "duration": 494,
    "start_time": "2023-01-21T11:41:32.367Z"
   },
   {
    "duration": 46,
    "start_time": "2023-01-21T11:41:41.419Z"
   },
   {
    "duration": 61,
    "start_time": "2023-01-21T11:41:57.355Z"
   },
   {
    "duration": 110,
    "start_time": "2023-01-21T11:44:50.214Z"
   },
   {
    "duration": 50,
    "start_time": "2023-01-21T11:44:54.106Z"
   },
   {
    "duration": 76,
    "start_time": "2023-01-21T11:49:18.695Z"
   },
   {
    "duration": 60,
    "start_time": "2023-01-21T11:50:09.453Z"
   },
   {
    "duration": 83,
    "start_time": "2023-01-21T11:50:26.317Z"
   },
   {
    "duration": 83,
    "start_time": "2023-01-21T11:50:28.942Z"
   },
   {
    "duration": 68,
    "start_time": "2023-01-21T11:50:42.852Z"
   },
   {
    "duration": 81,
    "start_time": "2023-01-21T11:55:57.243Z"
   },
   {
    "duration": 0,
    "start_time": "2023-01-21T11:55:57.325Z"
   },
   {
    "duration": 9,
    "start_time": "2023-01-21T11:56:17.897Z"
   },
   {
    "duration": 3,
    "start_time": "2023-01-21T11:56:21.673Z"
   },
   {
    "duration": 3,
    "start_time": "2023-01-21T11:56:21.989Z"
   },
   {
    "duration": 3,
    "start_time": "2023-01-21T11:56:22.618Z"
   },
   {
    "duration": 72,
    "start_time": "2023-01-21T11:56:47.588Z"
   },
   {
    "duration": 185,
    "start_time": "2023-01-21T12:02:28.955Z"
   },
   {
    "duration": 56,
    "start_time": "2023-01-21T12:02:44.515Z"
   },
   {
    "duration": 53,
    "start_time": "2023-01-21T12:02:51.710Z"
   },
   {
    "duration": 66,
    "start_time": "2023-01-21T12:09:18.375Z"
   },
   {
    "duration": 61,
    "start_time": "2023-01-21T12:09:31.097Z"
   },
   {
    "duration": 95,
    "start_time": "2023-01-21T12:09:48.957Z"
   },
   {
    "duration": 61,
    "start_time": "2023-01-21T12:10:09.446Z"
   },
   {
    "duration": 63,
    "start_time": "2023-01-21T12:10:55.577Z"
   },
   {
    "duration": 72,
    "start_time": "2023-01-21T12:11:40.287Z"
   },
   {
    "duration": 50,
    "start_time": "2023-01-21T12:11:45.099Z"
   },
   {
    "duration": 39,
    "start_time": "2023-01-21T12:11:53.924Z"
   },
   {
    "duration": 44,
    "start_time": "2023-01-21T12:12:06.998Z"
   },
   {
    "duration": 77,
    "start_time": "2023-01-21T12:12:11.225Z"
   },
   {
    "duration": 38,
    "start_time": "2023-01-21T12:12:13.233Z"
   },
   {
    "duration": 39,
    "start_time": "2023-01-21T12:12:19.193Z"
   },
   {
    "duration": 77,
    "start_time": "2023-01-21T12:12:38.890Z"
   },
   {
    "duration": 42,
    "start_time": "2023-01-21T12:12:43.777Z"
   },
   {
    "duration": 40,
    "start_time": "2023-01-21T12:12:49.690Z"
   },
   {
    "duration": 39,
    "start_time": "2023-01-21T12:12:55.343Z"
   },
   {
    "duration": 44,
    "start_time": "2023-01-21T12:13:18.604Z"
   },
   {
    "duration": 41,
    "start_time": "2023-01-21T12:13:23.807Z"
   },
   {
    "duration": 82,
    "start_time": "2023-01-21T12:15:45.035Z"
   },
   {
    "duration": 75,
    "start_time": "2023-01-21T12:15:55.895Z"
   },
   {
    "duration": 82,
    "start_time": "2023-01-21T12:16:06.198Z"
   },
   {
    "duration": 44,
    "start_time": "2023-01-21T12:16:07.636Z"
   },
   {
    "duration": 41,
    "start_time": "2023-01-21T12:16:13.353Z"
   },
   {
    "duration": 8987,
    "start_time": "2023-01-21T12:19:00.380Z"
   },
   {
    "duration": 65,
    "start_time": "2023-01-21T12:19:16.526Z"
   },
   {
    "duration": 49,
    "start_time": "2023-01-21T12:19:19.795Z"
   },
   {
    "duration": 52,
    "start_time": "2023-01-21T12:19:23.192Z"
   },
   {
    "duration": 8522,
    "start_time": "2023-01-21T12:19:43.204Z"
   },
   {
    "duration": 8663,
    "start_time": "2023-01-21T12:19:52.914Z"
   },
   {
    "duration": 47,
    "start_time": "2023-01-21T12:20:06.879Z"
   },
   {
    "duration": 8403,
    "start_time": "2023-01-21T12:20:11.524Z"
   },
   {
    "duration": 3,
    "start_time": "2023-01-21T12:20:42.754Z"
   },
   {
    "duration": 60,
    "start_time": "2023-01-21T12:21:00.795Z"
   },
   {
    "duration": 50,
    "start_time": "2023-01-21T12:21:04.405Z"
   },
   {
    "duration": 44,
    "start_time": "2023-01-21T12:21:08.517Z"
   },
   {
    "duration": 52,
    "start_time": "2023-01-21T12:21:14.722Z"
   },
   {
    "duration": 51,
    "start_time": "2023-01-21T12:21:29.128Z"
   },
   {
    "duration": 63,
    "start_time": "2023-01-21T12:30:55.327Z"
   },
   {
    "duration": 54,
    "start_time": "2023-01-21T12:31:05.429Z"
   },
   {
    "duration": 49,
    "start_time": "2023-01-21T12:31:14.282Z"
   },
   {
    "duration": 52,
    "start_time": "2023-01-21T12:32:12.468Z"
   },
   {
    "duration": 46,
    "start_time": "2023-01-21T12:32:20.976Z"
   },
   {
    "duration": 57,
    "start_time": "2023-01-21T12:32:43.732Z"
   },
   {
    "duration": 4,
    "start_time": "2023-01-21T12:46:29.529Z"
   },
   {
    "duration": 56,
    "start_time": "2023-01-21T12:47:19.435Z"
   },
   {
    "duration": 3,
    "start_time": "2023-01-21T12:47:22.802Z"
   },
   {
    "duration": 63,
    "start_time": "2023-01-21T12:47:23.932Z"
   },
   {
    "duration": 50,
    "start_time": "2023-01-21T12:50:19.651Z"
   },
   {
    "duration": 68,
    "start_time": "2023-01-21T12:52:00.350Z"
   },
   {
    "duration": 68,
    "start_time": "2023-01-21T12:52:14.033Z"
   },
   {
    "duration": 67,
    "start_time": "2023-01-21T12:52:20.598Z"
   },
   {
    "duration": 54,
    "start_time": "2023-01-21T12:52:24.107Z"
   },
   {
    "duration": 54,
    "start_time": "2023-01-21T12:52:31.366Z"
   },
   {
    "duration": 66,
    "start_time": "2023-01-21T12:52:39.897Z"
   },
   {
    "duration": 69,
    "start_time": "2023-01-21T12:52:51.061Z"
   },
   {
    "duration": 69,
    "start_time": "2023-01-21T12:53:11.823Z"
   },
   {
    "duration": 65,
    "start_time": "2023-01-21T12:53:14.589Z"
   },
   {
    "duration": 69,
    "start_time": "2023-01-21T12:53:15.947Z"
   },
   {
    "duration": 66,
    "start_time": "2023-01-21T12:53:21.137Z"
   },
   {
    "duration": 75,
    "start_time": "2023-01-21T12:53:58.789Z"
   },
   {
    "duration": 64,
    "start_time": "2023-01-21T12:54:06.778Z"
   },
   {
    "duration": 73,
    "start_time": "2023-01-21T12:54:13.862Z"
   },
   {
    "duration": 65,
    "start_time": "2023-01-21T12:54:24.978Z"
   },
   {
    "duration": 65,
    "start_time": "2023-01-21T12:54:43.120Z"
   },
   {
    "duration": 38,
    "start_time": "2023-01-21T13:04:17.809Z"
   },
   {
    "duration": 40,
    "start_time": "2023-01-21T13:04:23.140Z"
   },
   {
    "duration": 5,
    "start_time": "2023-01-21T13:04:41.311Z"
   },
   {
    "duration": 7,
    "start_time": "2023-01-21T13:05:24.869Z"
   },
   {
    "duration": 5,
    "start_time": "2023-01-21T13:06:02.853Z"
   },
   {
    "duration": 7882,
    "start_time": "2023-01-21T13:09:49.879Z"
   },
   {
    "duration": 8784,
    "start_time": "2023-01-21T13:11:11.380Z"
   },
   {
    "duration": 39,
    "start_time": "2023-01-21T13:11:22.309Z"
   },
   {
    "duration": 8831,
    "start_time": "2023-01-21T13:13:37.401Z"
   },
   {
    "duration": 40,
    "start_time": "2023-01-21T13:14:19.452Z"
   },
   {
    "duration": 16361,
    "start_time": "2023-01-21T13:15:14.479Z"
   },
   {
    "duration": 16475,
    "start_time": "2023-01-21T13:15:40.593Z"
   },
   {
    "duration": 41,
    "start_time": "2023-01-21T13:19:36.569Z"
   },
   {
    "duration": 16280,
    "start_time": "2023-01-21T13:20:29.209Z"
   },
   {
    "duration": 16520,
    "start_time": "2023-01-21T13:20:57.345Z"
   },
   {
    "duration": 16260,
    "start_time": "2023-01-21T13:21:36.137Z"
   },
   {
    "duration": 16329,
    "start_time": "2023-01-21T13:21:58.314Z"
   },
   {
    "duration": 16423,
    "start_time": "2023-01-21T13:22:16.824Z"
   },
   {
    "duration": 74,
    "start_time": "2023-01-21T13:22:35.789Z"
   },
   {
    "duration": 72,
    "start_time": "2023-01-21T13:22:53.662Z"
   },
   {
    "duration": 121,
    "start_time": "2023-01-21T13:23:16.472Z"
   },
   {
    "duration": 82,
    "start_time": "2023-01-21T13:25:59.209Z"
   },
   {
    "duration": 54,
    "start_time": "2023-01-22T09:35:05.659Z"
   },
   {
    "duration": 1070,
    "start_time": "2023-01-22T09:35:16.258Z"
   },
   {
    "duration": 216,
    "start_time": "2023-01-22T09:35:17.331Z"
   },
   {
    "duration": 14976,
    "start_time": "2023-01-22T09:35:17.556Z"
   },
   {
    "duration": 105,
    "start_time": "2023-01-22T09:35:32.533Z"
   },
   {
    "duration": 1115,
    "start_time": "2023-01-22T09:35:32.644Z"
   },
   {
    "duration": 819,
    "start_time": "2023-01-22T09:36:07.729Z"
   },
   {
    "duration": 105,
    "start_time": "2023-01-22T09:37:11.153Z"
   },
   {
    "duration": 3,
    "start_time": "2023-01-22T09:37:15.213Z"
   },
   {
    "duration": 4,
    "start_time": "2023-01-22T09:37:18.757Z"
   },
   {
    "duration": 3,
    "start_time": "2023-01-22T09:37:19.034Z"
   },
   {
    "duration": 108,
    "start_time": "2023-01-22T09:37:37.493Z"
   },
   {
    "duration": 165,
    "start_time": "2023-01-22T09:37:42.642Z"
   },
   {
    "duration": 101,
    "start_time": "2023-01-22T09:38:23.396Z"
   },
   {
    "duration": 105,
    "start_time": "2023-01-22T09:38:29.856Z"
   },
   {
    "duration": 104,
    "start_time": "2023-01-22T09:38:59.889Z"
   },
   {
    "duration": 105,
    "start_time": "2023-01-22T09:39:05.355Z"
   },
   {
    "duration": 102,
    "start_time": "2023-01-22T09:39:12.810Z"
   },
   {
    "duration": 99,
    "start_time": "2023-01-22T09:39:24.628Z"
   },
   {
    "duration": 102,
    "start_time": "2023-01-22T09:39:43.158Z"
   },
   {
    "duration": 104,
    "start_time": "2023-01-22T09:40:02.202Z"
   },
   {
    "duration": 93,
    "start_time": "2023-01-22T09:40:27.652Z"
   },
   {
    "duration": 90,
    "start_time": "2023-01-22T09:40:35.706Z"
   },
   {
    "duration": 63,
    "start_time": "2023-01-22T09:42:09.804Z"
   },
   {
    "duration": 60,
    "start_time": "2023-01-22T09:42:17.783Z"
   },
   {
    "duration": 95,
    "start_time": "2023-01-22T09:42:21.886Z"
   },
   {
    "duration": 402,
    "start_time": "2023-01-22T09:43:56.278Z"
   },
   {
    "duration": 579,
    "start_time": "2023-01-22T09:44:05.677Z"
   },
   {
    "duration": 100,
    "start_time": "2023-01-22T09:44:30.851Z"
   },
   {
    "duration": 546,
    "start_time": "2023-01-22T09:44:36.518Z"
   },
   {
    "duration": 108,
    "start_time": "2023-01-22T09:45:09.336Z"
   },
   {
    "duration": 93,
    "start_time": "2023-01-22T09:45:10.302Z"
   },
   {
    "duration": 106,
    "start_time": "2023-01-22T09:45:10.758Z"
   },
   {
    "duration": 757,
    "start_time": "2023-01-22T09:45:12.096Z"
   },
   {
    "duration": 1000,
    "start_time": "2023-01-22T09:45:40.950Z"
   },
   {
    "duration": 611,
    "start_time": "2023-01-22T09:45:47.441Z"
   },
   {
    "duration": 565,
    "start_time": "2023-01-22T09:46:48.080Z"
   },
   {
    "duration": 555,
    "start_time": "2023-01-22T09:46:57.190Z"
   },
   {
    "duration": 662,
    "start_time": "2023-01-22T09:47:03.189Z"
   },
   {
    "duration": 3,
    "start_time": "2023-01-22T09:47:17.986Z"
   },
   {
    "duration": 657,
    "start_time": "2023-01-22T09:47:31.788Z"
   },
   {
    "duration": 673,
    "start_time": "2023-01-22T09:47:39.578Z"
   },
   {
    "duration": 644,
    "start_time": "2023-01-22T09:48:03.307Z"
   },
   {
    "duration": 359,
    "start_time": "2023-01-22T09:48:16.086Z"
   },
   {
    "duration": 108,
    "start_time": "2023-01-22T09:48:23.683Z"
   },
   {
    "duration": 99,
    "start_time": "2023-01-22T09:48:28.925Z"
   },
   {
    "duration": 645,
    "start_time": "2023-01-22T09:48:36.401Z"
   },
   {
    "duration": 515,
    "start_time": "2023-01-22T09:48:53.331Z"
   },
   {
    "duration": 12,
    "start_time": "2023-01-22T09:50:31.614Z"
   },
   {
    "duration": 9,
    "start_time": "2023-01-22T09:50:43.836Z"
   },
   {
    "duration": 8,
    "start_time": "2023-01-22T09:50:46.865Z"
   },
   {
    "duration": 3,
    "start_time": "2023-01-22T09:52:33.163Z"
   },
   {
    "duration": 67,
    "start_time": "2023-01-22T09:54:29.877Z"
   },
   {
    "duration": 67,
    "start_time": "2023-01-22T09:55:44.038Z"
   },
   {
    "duration": 70,
    "start_time": "2023-01-22T09:56:29.614Z"
   },
   {
    "duration": 88,
    "start_time": "2023-01-22T09:57:07.080Z"
   },
   {
    "duration": 85,
    "start_time": "2023-01-22T09:57:14.278Z"
   },
   {
    "duration": 82,
    "start_time": "2023-01-22T09:57:23.416Z"
   },
   {
    "duration": 77,
    "start_time": "2023-01-22T09:57:38.561Z"
   },
   {
    "duration": 1108,
    "start_time": "2023-01-22T09:57:58.718Z"
   },
   {
    "duration": 95,
    "start_time": "2023-01-22T09:57:59.828Z"
   },
   {
    "duration": 15200,
    "start_time": "2023-01-22T09:57:59.924Z"
   },
   {
    "duration": 104,
    "start_time": "2023-01-22T09:58:15.127Z"
   },
   {
    "duration": 826,
    "start_time": "2023-01-22T09:58:15.233Z"
   },
   {
    "duration": 1055,
    "start_time": "2023-01-22T10:03:01.198Z"
   },
   {
    "duration": 86,
    "start_time": "2023-01-22T10:03:02.256Z"
   },
   {
    "duration": 15106,
    "start_time": "2023-01-22T10:03:02.345Z"
   },
   {
    "duration": 104,
    "start_time": "2023-01-22T10:03:17.455Z"
   },
   {
    "duration": 1003,
    "start_time": "2023-01-22T10:03:17.562Z"
   },
   {
    "duration": 110,
    "start_time": "2023-01-22T10:03:55.237Z"
   },
   {
    "duration": 135,
    "start_time": "2023-01-22T10:04:03.812Z"
   },
   {
    "duration": 15357,
    "start_time": "2023-01-22T10:05:41.238Z"
   },
   {
    "duration": 14585,
    "start_time": "2023-01-22T10:08:38.881Z"
   },
   {
    "duration": 3,
    "start_time": "2023-01-22T10:11:28.796Z"
   },
   {
    "duration": 3,
    "start_time": "2023-01-22T10:11:49.191Z"
   },
   {
    "duration": 771,
    "start_time": "2023-01-22T10:12:07.418Z"
   },
   {
    "duration": 845,
    "start_time": "2023-01-22T10:12:12.124Z"
   },
   {
    "duration": 793,
    "start_time": "2023-01-22T10:12:42.500Z"
   },
   {
    "duration": 794,
    "start_time": "2023-01-22T10:13:08.092Z"
   },
   {
    "duration": 883,
    "start_time": "2023-01-22T10:13:36.478Z"
   },
   {
    "duration": 928,
    "start_time": "2023-01-22T10:14:31.214Z"
   },
   {
    "duration": 77,
    "start_time": "2023-01-22T10:15:42.573Z"
   },
   {
    "duration": 125,
    "start_time": "2023-01-22T10:16:32.131Z"
   },
   {
    "duration": 47,
    "start_time": "2023-01-22T10:18:05.778Z"
   },
   {
    "duration": 4,
    "start_time": "2023-01-22T10:20:20.935Z"
   },
   {
    "duration": 111,
    "start_time": "2023-01-22T10:20:39.844Z"
   },
   {
    "duration": 19,
    "start_time": "2023-01-22T10:21:03.675Z"
   },
   {
    "duration": 26,
    "start_time": "2023-01-22T10:21:10.929Z"
   },
   {
    "duration": 18,
    "start_time": "2023-01-22T10:21:11.561Z"
   },
   {
    "duration": 4,
    "start_time": "2023-01-22T10:21:16.309Z"
   },
   {
    "duration": 4,
    "start_time": "2023-01-22T10:21:17.658Z"
   },
   {
    "duration": 16,
    "start_time": "2023-01-22T10:21:21.577Z"
   },
   {
    "duration": 165,
    "start_time": "2023-01-22T10:22:07.597Z"
   },
   {
    "duration": 59,
    "start_time": "2023-01-22T10:22:50.117Z"
   },
   {
    "duration": 206,
    "start_time": "2023-01-22T10:23:03.557Z"
   },
   {
    "duration": 1279,
    "start_time": "2023-01-22T10:24:28.593Z"
   },
   {
    "duration": 1541,
    "start_time": "2023-01-22T10:24:42.723Z"
   },
   {
    "duration": 358,
    "start_time": "2023-01-22T10:29:14.789Z"
   },
   {
    "duration": 218,
    "start_time": "2023-01-22T10:34:37.331Z"
   },
   {
    "duration": 72,
    "start_time": "2023-01-22T10:34:59.195Z"
   },
   {
    "duration": 10,
    "start_time": "2023-01-22T10:36:24.506Z"
   },
   {
    "duration": 14,
    "start_time": "2023-01-22T10:36:26.640Z"
   },
   {
    "duration": 14,
    "start_time": "2023-01-22T10:36:26.996Z"
   },
   {
    "duration": 80,
    "start_time": "2023-01-22T10:36:51.782Z"
   },
   {
    "duration": 432,
    "start_time": "2023-01-22T10:40:29.691Z"
   },
   {
    "duration": 405,
    "start_time": "2023-01-22T10:41:07.170Z"
   },
   {
    "duration": 425,
    "start_time": "2023-01-22T10:41:14.314Z"
   },
   {
    "duration": 75,
    "start_time": "2023-01-22T11:34:03.239Z"
   },
   {
    "duration": 1055,
    "start_time": "2023-01-22T11:34:32.071Z"
   },
   {
    "duration": 89,
    "start_time": "2023-01-22T11:34:33.127Z"
   },
   {
    "duration": 13867,
    "start_time": "2023-01-22T11:34:33.217Z"
   },
   {
    "duration": 65,
    "start_time": "2023-01-22T11:34:47.086Z"
   },
   {
    "duration": 191,
    "start_time": "2023-01-22T11:34:47.152Z"
   },
   {
    "duration": 757,
    "start_time": "2023-01-22T11:34:47.345Z"
   },
   {
    "duration": 139,
    "start_time": "2023-01-22T11:34:48.104Z"
   },
   {
    "duration": 106,
    "start_time": "2023-01-22T11:34:48.245Z"
   },
   {
    "duration": 98,
    "start_time": "2023-01-22T11:34:48.353Z"
   },
   {
    "duration": 1604,
    "start_time": "2023-01-22T11:34:48.453Z"
   },
   {
    "duration": 12,
    "start_time": "2023-01-22T11:34:50.059Z"
   },
   {
    "duration": 176,
    "start_time": "2023-01-22T11:34:50.073Z"
   },
   {
    "duration": 521,
    "start_time": "2023-01-22T11:34:50.251Z"
   },
   {
    "duration": 1080,
    "start_time": "2023-01-22T11:35:37.615Z"
   },
   {
    "duration": 91,
    "start_time": "2023-01-22T11:35:38.697Z"
   },
   {
    "duration": 14608,
    "start_time": "2023-01-22T11:35:38.790Z"
   },
   {
    "duration": 79,
    "start_time": "2023-01-22T11:35:53.400Z"
   },
   {
    "duration": 166,
    "start_time": "2023-01-22T11:35:53.482Z"
   },
   {
    "duration": 882,
    "start_time": "2023-01-22T11:35:53.650Z"
   },
   {
    "duration": 117,
    "start_time": "2023-01-22T11:35:54.533Z"
   },
   {
    "duration": 103,
    "start_time": "2023-01-22T11:35:54.653Z"
   },
   {
    "duration": 287,
    "start_time": "2023-01-22T11:35:54.758Z"
   },
   {
    "duration": 1541,
    "start_time": "2023-01-22T11:35:55.047Z"
   },
   {
    "duration": 12,
    "start_time": "2023-01-22T11:35:56.590Z"
   },
   {
    "duration": 48,
    "start_time": "2023-01-22T11:35:56.603Z"
   },
   {
    "duration": 580,
    "start_time": "2023-01-22T11:35:56.653Z"
   },
   {
    "duration": 1493,
    "start_time": "2023-01-22T11:48:46.484Z"
   },
   {
    "duration": 1471,
    "start_time": "2023-01-22T11:48:52.625Z"
   },
   {
    "duration": 1542,
    "start_time": "2023-01-22T11:48:57.116Z"
   },
   {
    "duration": 1514,
    "start_time": "2023-01-22T11:49:00.124Z"
   },
   {
    "duration": 1539,
    "start_time": "2023-01-22T11:49:03.655Z"
   },
   {
    "duration": 1519,
    "start_time": "2023-01-22T11:49:06.772Z"
   },
   {
    "duration": 1425,
    "start_time": "2023-01-22T11:49:09.505Z"
   },
   {
    "duration": 1496,
    "start_time": "2023-01-22T11:49:12.755Z"
   },
   {
    "duration": 145,
    "start_time": "2023-01-22T11:52:06.917Z"
   },
   {
    "duration": 56,
    "start_time": "2023-01-22T11:52:21.007Z"
   },
   {
    "duration": 79,
    "start_time": "2023-01-22T11:52:30.384Z"
   },
   {
    "duration": 79,
    "start_time": "2023-01-22T11:52:37.491Z"
   },
   {
    "duration": 48,
    "start_time": "2023-01-22T11:59:56.829Z"
   },
   {
    "duration": 5,
    "start_time": "2023-01-22T11:59:59.979Z"
   },
   {
    "duration": 67,
    "start_time": "2023-01-22T12:00:28.703Z"
   },
   {
    "duration": 4,
    "start_time": "2023-01-22T12:00:48.454Z"
   },
   {
    "duration": 72,
    "start_time": "2023-01-22T12:00:52.450Z"
   },
   {
    "duration": 391,
    "start_time": "2023-01-22T12:01:00.949Z"
   },
   {
    "duration": 181,
    "start_time": "2023-01-22T12:01:05.478Z"
   },
   {
    "duration": 1412,
    "start_time": "2023-01-22T12:05:24.392Z"
   },
   {
    "duration": 367,
    "start_time": "2023-01-22T12:07:03.206Z"
   },
   {
    "duration": 1363,
    "start_time": "2023-01-22T12:25:30.475Z"
   },
   {
    "duration": 1339,
    "start_time": "2023-01-22T12:25:39.759Z"
   },
   {
    "duration": 1553,
    "start_time": "2023-01-22T12:26:13.524Z"
   },
   {
    "duration": 1454,
    "start_time": "2023-01-22T12:26:18.467Z"
   },
   {
    "duration": 1464,
    "start_time": "2023-01-22T12:26:25.802Z"
   },
   {
    "duration": 1462,
    "start_time": "2023-01-22T12:27:05.648Z"
   },
   {
    "duration": 86,
    "start_time": "2023-01-22T12:33:06.621Z"
   },
   {
    "duration": 1326,
    "start_time": "2023-01-22T12:33:13.476Z"
   },
   {
    "duration": 109,
    "start_time": "2023-01-22T12:33:14.804Z"
   },
   {
    "duration": 13032,
    "start_time": "2023-01-22T12:33:14.915Z"
   },
   {
    "duration": 118,
    "start_time": "2023-01-22T12:33:27.949Z"
   },
   {
    "duration": 183,
    "start_time": "2023-01-22T12:33:28.069Z"
   },
   {
    "duration": 872,
    "start_time": "2023-01-22T12:33:28.254Z"
   },
   {
    "duration": 125,
    "start_time": "2023-01-22T12:33:29.127Z"
   },
   {
    "duration": 95,
    "start_time": "2023-01-22T12:33:29.257Z"
   },
   {
    "duration": 196,
    "start_time": "2023-01-22T12:33:29.354Z"
   },
   {
    "duration": 1396,
    "start_time": "2023-01-22T12:33:29.552Z"
   },
   {
    "duration": 13,
    "start_time": "2023-01-22T12:33:30.950Z"
   },
   {
    "duration": 86,
    "start_time": "2023-01-22T12:33:30.965Z"
   },
   {
    "duration": 542,
    "start_time": "2023-01-22T12:33:31.053Z"
   },
   {
    "duration": 1324,
    "start_time": "2023-01-22T12:33:31.598Z"
   },
   {
    "duration": 46,
    "start_time": "2023-01-22T12:33:32.924Z"
   },
   {
    "duration": 16,
    "start_time": "2023-01-22T12:34:05.490Z"
   },
   {
    "duration": 135,
    "start_time": "2023-01-22T12:34:32.201Z"
   },
   {
    "duration": 35,
    "start_time": "2023-01-22T12:35:07.076Z"
   },
   {
    "duration": 50,
    "start_time": "2023-01-22T12:46:03.706Z"
   },
   {
    "duration": 2,
    "start_time": "2023-01-22T12:46:10.443Z"
   },
   {
    "duration": 3,
    "start_time": "2023-01-22T12:46:18.279Z"
   },
   {
    "duration": 5,
    "start_time": "2023-01-22T12:47:16.905Z"
   },
   {
    "duration": 5,
    "start_time": "2023-01-22T12:47:25.009Z"
   },
   {
    "duration": 4,
    "start_time": "2023-01-22T12:47:44.323Z"
   },
   {
    "duration": 4,
    "start_time": "2023-01-22T12:47:51.507Z"
   },
   {
    "duration": 4,
    "start_time": "2023-01-22T12:48:03.190Z"
   },
   {
    "duration": 47,
    "start_time": "2023-01-22T12:49:35.581Z"
   },
   {
    "duration": 54,
    "start_time": "2023-01-22T12:50:00.489Z"
   },
   {
    "duration": 10,
    "start_time": "2023-01-22T12:50:11.285Z"
   },
   {
    "duration": 10,
    "start_time": "2023-01-22T12:50:27.422Z"
   },
   {
    "duration": 5,
    "start_time": "2023-01-22T12:51:40.605Z"
   },
   {
    "duration": 6,
    "start_time": "2023-01-22T12:51:45.590Z"
   },
   {
    "duration": 5,
    "start_time": "2023-01-22T12:52:24.981Z"
   },
   {
    "duration": 5,
    "start_time": "2023-01-22T12:52:32.228Z"
   },
   {
    "duration": 6,
    "start_time": "2023-01-22T12:52:35.704Z"
   },
   {
    "duration": 6,
    "start_time": "2023-01-22T12:52:39.088Z"
   },
   {
    "duration": 10,
    "start_time": "2023-01-22T12:52:42.222Z"
   },
   {
    "duration": 9,
    "start_time": "2023-01-22T12:52:47.803Z"
   },
   {
    "duration": 12,
    "start_time": "2023-01-22T12:52:52.983Z"
   },
   {
    "duration": 13,
    "start_time": "2023-01-22T12:53:32.084Z"
   },
   {
    "duration": 10,
    "start_time": "2023-01-22T12:53:41.029Z"
   },
   {
    "duration": 11,
    "start_time": "2023-01-22T12:55:33.386Z"
   },
   {
    "duration": 14,
    "start_time": "2023-01-22T12:56:48.473Z"
   },
   {
    "duration": 7,
    "start_time": "2023-01-22T12:57:14.472Z"
   },
   {
    "duration": 7,
    "start_time": "2023-01-22T12:57:47.689Z"
   },
   {
    "duration": 11,
    "start_time": "2023-01-22T12:57:53.686Z"
   },
   {
    "duration": 13,
    "start_time": "2023-01-22T12:58:18.475Z"
   },
   {
    "duration": 13,
    "start_time": "2023-01-22T12:59:16.893Z"
   },
   {
    "duration": 8,
    "start_time": "2023-01-22T12:59:22.270Z"
   },
   {
    "duration": 7,
    "start_time": "2023-01-22T12:59:31.239Z"
   },
   {
    "duration": 7,
    "start_time": "2023-01-22T13:00:13.127Z"
   },
   {
    "duration": 7,
    "start_time": "2023-01-22T13:02:09.704Z"
   },
   {
    "duration": 11,
    "start_time": "2023-01-22T13:02:14.282Z"
   },
   {
    "duration": 13,
    "start_time": "2023-01-22T13:02:14.408Z"
   },
   {
    "duration": 7,
    "start_time": "2023-01-22T13:02:19.079Z"
   },
   {
    "duration": 7,
    "start_time": "2023-01-22T13:03:39.290Z"
   },
   {
    "duration": 8,
    "start_time": "2023-01-22T13:03:47.632Z"
   },
   {
    "duration": 10,
    "start_time": "2023-01-22T13:03:47.930Z"
   },
   {
    "duration": 13,
    "start_time": "2023-01-22T13:04:07.185Z"
   },
   {
    "duration": 13,
    "start_time": "2023-01-22T13:04:11.681Z"
   },
   {
    "duration": 7,
    "start_time": "2023-01-22T13:04:21.440Z"
   },
   {
    "duration": 10,
    "start_time": "2023-01-22T13:04:38.281Z"
   },
   {
    "duration": 11,
    "start_time": "2023-01-22T13:04:44.827Z"
   },
   {
    "duration": 8,
    "start_time": "2023-01-22T13:04:49.924Z"
   },
   {
    "duration": 8,
    "start_time": "2023-01-22T13:04:50.203Z"
   },
   {
    "duration": 7,
    "start_time": "2023-01-22T13:04:50.910Z"
   },
   {
    "duration": 8,
    "start_time": "2023-01-22T13:04:51.288Z"
   },
   {
    "duration": 8,
    "start_time": "2023-01-22T13:04:51.524Z"
   },
   {
    "duration": 8,
    "start_time": "2023-01-22T13:04:51.769Z"
   },
   {
    "duration": 9,
    "start_time": "2023-01-22T13:04:51.962Z"
   },
   {
    "duration": 8,
    "start_time": "2023-01-22T13:04:52.471Z"
   },
   {
    "duration": 7,
    "start_time": "2023-01-22T13:04:52.873Z"
   },
   {
    "duration": 9,
    "start_time": "2023-01-22T13:04:53.226Z"
   },
   {
    "duration": 8,
    "start_time": "2023-01-22T13:04:53.575Z"
   },
   {
    "duration": 9,
    "start_time": "2023-01-22T13:04:53.924Z"
   },
   {
    "duration": 8,
    "start_time": "2023-01-22T13:04:54.280Z"
   },
   {
    "duration": 9,
    "start_time": "2023-01-22T13:05:06.173Z"
   },
   {
    "duration": 12,
    "start_time": "2023-01-22T13:05:19.565Z"
   },
   {
    "duration": 5,
    "start_time": "2023-01-22T13:05:30.866Z"
   },
   {
    "duration": 33,
    "start_time": "2023-01-22T13:06:01.624Z"
   },
   {
    "duration": 23,
    "start_time": "2023-01-22T13:06:41.800Z"
   },
   {
    "duration": 23,
    "start_time": "2023-01-22T13:06:51.635Z"
   },
   {
    "duration": 31,
    "start_time": "2023-01-22T13:06:56.267Z"
   },
   {
    "duration": 27,
    "start_time": "2023-01-22T13:07:04.574Z"
   },
   {
    "duration": 24,
    "start_time": "2023-01-22T13:07:05.089Z"
   },
   {
    "duration": 24,
    "start_time": "2023-01-22T13:07:05.489Z"
   },
   {
    "duration": 23,
    "start_time": "2023-01-22T13:07:05.880Z"
   },
   {
    "duration": 25,
    "start_time": "2023-01-22T13:07:06.373Z"
   },
   {
    "duration": 25,
    "start_time": "2023-01-22T13:07:06.529Z"
   },
   {
    "duration": 24,
    "start_time": "2023-01-22T13:07:06.711Z"
   },
   {
    "duration": 22,
    "start_time": "2023-01-22T13:07:06.888Z"
   },
   {
    "duration": 23,
    "start_time": "2023-01-22T13:07:07.068Z"
   },
   {
    "duration": 23,
    "start_time": "2023-01-22T13:07:07.227Z"
   },
   {
    "duration": 25,
    "start_time": "2023-01-22T13:07:07.403Z"
   },
   {
    "duration": 24,
    "start_time": "2023-01-22T13:07:07.582Z"
   },
   {
    "duration": 28,
    "start_time": "2023-01-22T13:07:07.777Z"
   },
   {
    "duration": 29,
    "start_time": "2023-01-22T13:07:07.936Z"
   },
   {
    "duration": 23,
    "start_time": "2023-01-22T13:07:08.131Z"
   },
   {
    "duration": 29,
    "start_time": "2023-01-22T13:07:08.317Z"
   },
   {
    "duration": 25,
    "start_time": "2023-01-22T13:07:08.507Z"
   },
   {
    "duration": 24,
    "start_time": "2023-01-22T13:07:08.699Z"
   },
   {
    "duration": 24,
    "start_time": "2023-01-22T13:07:08.876Z"
   },
   {
    "duration": 24,
    "start_time": "2023-01-22T13:07:09.078Z"
   },
   {
    "duration": 23,
    "start_time": "2023-01-22T13:07:09.290Z"
   },
   {
    "duration": 5,
    "start_time": "2023-01-22T15:57:47.796Z"
   },
   {
    "duration": 1374,
    "start_time": "2023-01-22T15:57:51.822Z"
   },
   {
    "duration": 132,
    "start_time": "2023-01-22T15:57:53.198Z"
   },
   {
    "duration": 14432,
    "start_time": "2023-01-22T15:57:53.332Z"
   },
   {
    "duration": 124,
    "start_time": "2023-01-22T15:58:07.766Z"
   },
   {
    "duration": 55,
    "start_time": "2023-01-22T15:58:07.892Z"
   },
   {
    "duration": 991,
    "start_time": "2023-01-22T15:58:07.949Z"
   },
   {
    "duration": 103,
    "start_time": "2023-01-22T15:58:08.942Z"
   },
   {
    "duration": 192,
    "start_time": "2023-01-22T15:58:09.048Z"
   },
   {
    "duration": 198,
    "start_time": "2023-01-22T15:58:09.242Z"
   },
   {
    "duration": 1446,
    "start_time": "2023-01-22T15:58:09.446Z"
   },
   {
    "duration": 11,
    "start_time": "2023-01-22T15:58:10.894Z"
   },
   {
    "duration": 234,
    "start_time": "2023-01-22T15:58:10.907Z"
   },
   {
    "duration": 469,
    "start_time": "2023-01-22T15:58:11.143Z"
   },
   {
    "duration": 1436,
    "start_time": "2023-01-22T15:58:11.615Z"
   },
   {
    "duration": 0,
    "start_time": "2023-01-22T15:58:13.052Z"
   },
   {
    "duration": 0,
    "start_time": "2023-01-22T15:58:13.054Z"
   },
   {
    "duration": 1401,
    "start_time": "2023-01-22T15:59:28.191Z"
   },
   {
    "duration": 72,
    "start_time": "2023-01-22T15:59:43.678Z"
   },
   {
    "duration": 4,
    "start_time": "2023-01-22T16:00:20.962Z"
   },
   {
    "duration": 1376,
    "start_time": "2023-01-22T16:00:25.457Z"
   },
   {
    "duration": 85,
    "start_time": "2023-01-22T16:00:26.835Z"
   },
   {
    "duration": 14522,
    "start_time": "2023-01-22T16:00:26.921Z"
   },
   {
    "duration": 128,
    "start_time": "2023-01-22T16:00:41.445Z"
   },
   {
    "duration": 165,
    "start_time": "2023-01-22T16:00:41.575Z"
   },
   {
    "duration": 909,
    "start_time": "2023-01-22T16:00:41.742Z"
   },
   {
    "duration": 188,
    "start_time": "2023-01-22T16:00:42.653Z"
   },
   {
    "duration": 104,
    "start_time": "2023-01-22T16:00:42.846Z"
   },
   {
    "duration": 189,
    "start_time": "2023-01-22T16:00:42.952Z"
   },
   {
    "duration": 1535,
    "start_time": "2023-01-22T16:00:43.144Z"
   },
   {
    "duration": 10,
    "start_time": "2023-01-22T16:00:44.681Z"
   },
   {
    "duration": 146,
    "start_time": "2023-01-22T16:00:44.693Z"
   },
   {
    "duration": 472,
    "start_time": "2023-01-22T16:00:44.842Z"
   },
   {
    "duration": 1469,
    "start_time": "2023-01-22T16:00:45.316Z"
   },
   {
    "duration": 39,
    "start_time": "2023-01-22T16:00:46.787Z"
   },
   {
    "duration": 127,
    "start_time": "2023-01-22T16:00:46.827Z"
   },
   {
    "duration": 15,
    "start_time": "2023-01-22T16:01:00.500Z"
   },
   {
    "duration": 1524,
    "start_time": "2023-01-22T16:01:07.165Z"
   },
   {
    "duration": 1623,
    "start_time": "2023-01-23T06:03:38.823Z"
   },
   {
    "duration": 242,
    "start_time": "2023-01-23T06:03:40.448Z"
   },
   {
    "duration": 42,
    "start_time": "2023-01-23T06:03:40.692Z"
   },
   {
    "duration": 0,
    "start_time": "2023-01-23T06:03:40.736Z"
   },
   {
    "duration": 0,
    "start_time": "2023-01-23T06:03:40.737Z"
   },
   {
    "duration": 0,
    "start_time": "2023-01-23T06:03:40.739Z"
   },
   {
    "duration": 0,
    "start_time": "2023-01-23T06:03:40.740Z"
   },
   {
    "duration": 0,
    "start_time": "2023-01-23T06:03:40.741Z"
   },
   {
    "duration": 0,
    "start_time": "2023-01-23T06:03:40.743Z"
   },
   {
    "duration": 0,
    "start_time": "2023-01-23T06:03:40.744Z"
   },
   {
    "duration": 0,
    "start_time": "2023-01-23T06:03:40.746Z"
   },
   {
    "duration": 0,
    "start_time": "2023-01-23T06:03:40.762Z"
   },
   {
    "duration": 0,
    "start_time": "2023-01-23T06:03:40.763Z"
   },
   {
    "duration": 0,
    "start_time": "2023-01-23T06:03:40.764Z"
   },
   {
    "duration": 0,
    "start_time": "2023-01-23T06:03:40.764Z"
   },
   {
    "duration": 0,
    "start_time": "2023-01-23T06:03:40.769Z"
   },
   {
    "duration": 33,
    "start_time": "2023-01-23T06:06:58.210Z"
   },
   {
    "duration": 4,
    "start_time": "2023-01-23T06:07:08.712Z"
   },
   {
    "duration": 84,
    "start_time": "2023-01-23T06:07:10.622Z"
   },
   {
    "duration": 29,
    "start_time": "2023-01-23T06:07:13.703Z"
   },
   {
    "duration": 2461,
    "start_time": "2023-01-23T06:08:04.687Z"
   },
   {
    "duration": 2213,
    "start_time": "2023-01-23T08:54:57.320Z"
   },
   {
    "duration": 2227,
    "start_time": "2023-01-23T08:57:31.430Z"
   },
   {
    "duration": 2243,
    "start_time": "2023-01-23T08:57:39.651Z"
   },
   {
    "duration": 140,
    "start_time": "2023-01-23T08:59:33.415Z"
   },
   {
    "duration": 2360,
    "start_time": "2023-01-23T08:59:45.150Z"
   },
   {
    "duration": 36,
    "start_time": "2023-01-23T08:59:47.513Z"
   },
   {
    "duration": 30,
    "start_time": "2023-01-23T09:00:35.186Z"
   },
   {
    "duration": 33,
    "start_time": "2023-01-23T09:00:42.456Z"
   },
   {
    "duration": 34,
    "start_time": "2023-01-23T09:00:49.138Z"
   },
   {
    "duration": 27,
    "start_time": "2023-01-23T09:00:52.008Z"
   },
   {
    "duration": 35,
    "start_time": "2023-01-23T09:02:11.081Z"
   },
   {
    "duration": 30,
    "start_time": "2023-01-23T09:02:16.470Z"
   },
   {
    "duration": 33,
    "start_time": "2023-01-23T09:02:20.338Z"
   },
   {
    "duration": 4,
    "start_time": "2023-01-23T09:02:25.438Z"
   },
   {
    "duration": 81,
    "start_time": "2023-01-23T09:02:28.776Z"
   },
   {
    "duration": 4,
    "start_time": "2023-01-23T09:02:40.412Z"
   },
   {
    "duration": 203,
    "start_time": "2023-01-23T09:02:45.546Z"
   },
   {
    "duration": 4,
    "start_time": "2023-01-23T09:02:55.354Z"
   },
   {
    "duration": 5,
    "start_time": "2023-01-23T09:03:48.591Z"
   },
   {
    "duration": 6,
    "start_time": "2023-01-23T09:03:50.235Z"
   },
   {
    "duration": 18,
    "start_time": "2023-01-23T09:03:51.591Z"
   },
   {
    "duration": 18,
    "start_time": "2023-01-23T09:04:04.936Z"
   },
   {
    "duration": 13,
    "start_time": "2023-01-23T09:06:00.908Z"
   },
   {
    "duration": 56,
    "start_time": "2023-01-23T09:06:12.850Z"
   },
   {
    "duration": 20,
    "start_time": "2023-01-23T09:06:30.332Z"
   },
   {
    "duration": 19,
    "start_time": "2023-01-23T09:06:33.152Z"
   },
   {
    "duration": 60,
    "start_time": "2023-01-23T09:06:48.941Z"
   },
   {
    "duration": 57,
    "start_time": "2023-01-23T09:07:06.084Z"
   },
   {
    "duration": 119,
    "start_time": "2023-01-23T09:08:24.337Z"
   },
   {
    "duration": 13,
    "start_time": "2023-01-23T09:08:27.022Z"
   },
   {
    "duration": 11,
    "start_time": "2023-01-23T09:08:29.907Z"
   },
   {
    "duration": 17,
    "start_time": "2023-01-23T09:08:58.442Z"
   },
   {
    "duration": 17,
    "start_time": "2023-01-23T09:09:05.165Z"
   },
   {
    "duration": 2258,
    "start_time": "2023-01-23T09:09:10.839Z"
   },
   {
    "duration": 2253,
    "start_time": "2023-01-23T09:09:18.701Z"
   },
   {
    "duration": 135,
    "start_time": "2023-01-23T09:09:28.839Z"
   },
   {
    "duration": 16,
    "start_time": "2023-01-23T09:12:50.404Z"
   },
   {
    "duration": 13,
    "start_time": "2023-01-23T09:12:58.027Z"
   },
   {
    "duration": 16,
    "start_time": "2023-01-23T09:13:10.041Z"
   },
   {
    "duration": 55,
    "start_time": "2023-01-23T09:14:58.716Z"
   },
   {
    "duration": 13,
    "start_time": "2023-01-23T09:19:58.292Z"
   },
   {
    "duration": 11,
    "start_time": "2023-01-23T09:19:59.221Z"
   },
   {
    "duration": 131,
    "start_time": "2023-01-23T09:20:02.135Z"
   },
   {
    "duration": 2311,
    "start_time": "2023-01-23T09:21:51.275Z"
   },
   {
    "duration": 52,
    "start_time": "2023-01-23T09:21:56.142Z"
   },
   {
    "duration": 2349,
    "start_time": "2023-01-23T09:26:34.066Z"
   },
   {
    "duration": 96,
    "start_time": "2023-01-23T09:27:05.301Z"
   },
   {
    "duration": 2285,
    "start_time": "2023-01-23T09:27:17.400Z"
   },
   {
    "duration": 2311,
    "start_time": "2023-01-23T09:27:42.330Z"
   },
   {
    "duration": 2468,
    "start_time": "2023-01-23T09:27:53.952Z"
   },
   {
    "duration": 2319,
    "start_time": "2023-01-23T09:28:06.228Z"
   },
   {
    "duration": 2370,
    "start_time": "2023-01-23T09:28:28.601Z"
   },
   {
    "duration": 32,
    "start_time": "2023-01-23T09:28:38.687Z"
   },
   {
    "duration": 35,
    "start_time": "2023-01-23T09:28:43.580Z"
   },
   {
    "duration": 2381,
    "start_time": "2023-01-23T09:28:48.850Z"
   },
   {
    "duration": 11,
    "start_time": "2023-01-23T09:31:22.441Z"
   },
   {
    "duration": 11,
    "start_time": "2023-01-23T09:31:31.837Z"
   },
   {
    "duration": 12,
    "start_time": "2023-01-23T09:31:32.302Z"
   },
   {
    "duration": 13,
    "start_time": "2023-01-23T09:33:08.735Z"
   },
   {
    "duration": 12,
    "start_time": "2023-01-23T09:33:14.228Z"
   },
   {
    "duration": 16,
    "start_time": "2023-01-23T09:33:25.768Z"
   },
   {
    "duration": 18,
    "start_time": "2023-01-23T09:33:41.905Z"
   },
   {
    "duration": 17,
    "start_time": "2023-01-23T09:33:46.633Z"
   },
   {
    "duration": 44,
    "start_time": "2023-01-23T09:34:11.642Z"
   },
   {
    "duration": 14,
    "start_time": "2023-01-23T09:34:18.605Z"
   },
   {
    "duration": 3145,
    "start_time": "2023-01-23T09:35:26.425Z"
   },
   {
    "duration": 3252,
    "start_time": "2023-01-23T09:35:46.429Z"
   },
   {
    "duration": 3268,
    "start_time": "2023-01-23T09:35:55.664Z"
   },
   {
    "duration": 146,
    "start_time": "2023-01-23T09:36:08.314Z"
   },
   {
    "duration": 16,
    "start_time": "2023-01-23T09:36:11.664Z"
   },
   {
    "duration": 22,
    "start_time": "2023-01-23T09:36:15.655Z"
   },
   {
    "duration": 24,
    "start_time": "2023-01-23T09:36:18.448Z"
   },
   {
    "duration": 13,
    "start_time": "2023-01-23T09:36:24.761Z"
   },
   {
    "duration": 12,
    "start_time": "2023-01-23T09:36:26.655Z"
   },
   {
    "duration": 3341,
    "start_time": "2023-01-23T09:36:44.318Z"
   },
   {
    "duration": 15,
    "start_time": "2023-01-23T09:37:00.272Z"
   },
   {
    "duration": 15,
    "start_time": "2023-01-23T09:37:01.260Z"
   },
   {
    "duration": 310,
    "start_time": "2023-01-23T09:37:03.745Z"
   },
   {
    "duration": 3420,
    "start_time": "2023-01-23T09:37:37.162Z"
   },
   {
    "duration": 16,
    "start_time": "2023-01-23T09:38:22.695Z"
   },
   {
    "duration": 15,
    "start_time": "2023-01-23T09:38:26.246Z"
   },
   {
    "duration": 1699,
    "start_time": "2023-01-23T09:38:30.225Z"
   },
   {
    "duration": 14,
    "start_time": "2023-01-23T09:38:53.746Z"
   },
   {
    "duration": 139,
    "start_time": "2023-01-23T09:39:02.014Z"
   },
   {
    "duration": 203,
    "start_time": "2023-01-23T09:39:26.449Z"
   },
   {
    "duration": 13,
    "start_time": "2023-01-23T09:40:09.206Z"
   },
   {
    "duration": 3266,
    "start_time": "2023-01-23T09:40:11.449Z"
   },
   {
    "duration": 26,
    "start_time": "2023-01-23T09:41:37.764Z"
   },
   {
    "duration": 38,
    "start_time": "2023-01-23T09:41:39.957Z"
   },
   {
    "duration": 3879,
    "start_time": "2023-01-23T09:44:06.095Z"
   },
   {
    "duration": 3772,
    "start_time": "2023-01-23T09:44:14.578Z"
   },
   {
    "duration": 7847,
    "start_time": "2023-01-23T09:44:36.162Z"
   },
   {
    "duration": 24092,
    "start_time": "2023-01-23T09:44:53.091Z"
   },
   {
    "duration": 42783,
    "start_time": "2023-01-23T09:45:30.108Z"
   },
   {
    "duration": 23241,
    "start_time": "2023-01-23T09:46:19.178Z"
   },
   {
    "duration": 10071,
    "start_time": "2023-01-23T09:46:42.422Z"
   },
   {
    "duration": 47,
    "start_time": "2023-01-23T09:47:06.013Z"
   },
   {
    "duration": 37,
    "start_time": "2023-01-23T09:47:07.621Z"
   },
   {
    "duration": 37,
    "start_time": "2023-01-23T09:47:08.130Z"
   },
   {
    "duration": 35,
    "start_time": "2023-01-23T09:47:08.607Z"
   },
   {
    "duration": 10872,
    "start_time": "2023-01-23T09:47:13.333Z"
   },
   {
    "duration": 33,
    "start_time": "2023-01-23T09:47:39.378Z"
   },
   {
    "duration": 10170,
    "start_time": "2023-01-23T09:48:11.430Z"
   },
   {
    "duration": 34,
    "start_time": "2023-01-23T09:48:21.602Z"
   },
   {
    "duration": 51,
    "start_time": "2023-01-23T09:48:55.459Z"
   },
   {
    "duration": 49,
    "start_time": "2023-01-23T09:49:29.893Z"
   },
   {
    "duration": 11111,
    "start_time": "2023-01-23T09:49:32.823Z"
   },
   {
    "duration": 23153,
    "start_time": "2023-01-23T09:49:52.814Z"
   },
   {
    "duration": 53,
    "start_time": "2023-01-23T09:50:31.022Z"
   },
   {
    "duration": 5,
    "start_time": "2023-01-23T09:51:15.446Z"
   },
   {
    "duration": 22478,
    "start_time": "2023-01-23T09:51:48.410Z"
   },
   {
    "duration": 23537,
    "start_time": "2023-01-23T09:52:31.020Z"
   },
   {
    "duration": 22231,
    "start_time": "2023-01-23T09:53:16.869Z"
   },
   {
    "duration": 49,
    "start_time": "2023-01-23T09:54:09.943Z"
   },
   {
    "duration": 3,
    "start_time": "2023-01-23T09:54:47.493Z"
   },
   {
    "duration": 3,
    "start_time": "2023-01-23T09:57:22.456Z"
   },
   {
    "duration": 708,
    "start_time": "2023-01-23T09:57:28.156Z"
   },
   {
    "duration": 797,
    "start_time": "2023-01-23T09:57:39.500Z"
   },
   {
    "duration": 242,
    "start_time": "2023-01-23T09:57:45.431Z"
   },
   {
    "duration": 802,
    "start_time": "2023-01-23T09:57:55.935Z"
   },
   {
    "duration": 182,
    "start_time": "2023-01-23T09:57:58.238Z"
   },
   {
    "duration": 21,
    "start_time": "2023-01-23T09:58:38.489Z"
   },
   {
    "duration": 20,
    "start_time": "2023-01-23T09:58:44.238Z"
   },
   {
    "duration": 18,
    "start_time": "2023-01-23T09:58:47.080Z"
   },
   {
    "duration": 22,
    "start_time": "2023-01-23T09:58:47.382Z"
   },
   {
    "duration": 170,
    "start_time": "2023-01-23T09:58:57.767Z"
   },
   {
    "duration": 625,
    "start_time": "2023-01-23T09:59:00.270Z"
   },
   {
    "duration": 629,
    "start_time": "2023-01-23T09:59:08.475Z"
   },
   {
    "duration": 794,
    "start_time": "2023-01-23T09:59:55.616Z"
   },
   {
    "duration": 685,
    "start_time": "2023-01-23T10:00:02.187Z"
   },
   {
    "duration": 22644,
    "start_time": "2023-01-23T10:00:05.110Z"
   },
   {
    "duration": 23381,
    "start_time": "2023-01-23T10:00:43.304Z"
   },
   {
    "duration": 49,
    "start_time": "2023-01-23T10:01:06.703Z"
   },
   {
    "duration": 5,
    "start_time": "2023-01-23T10:02:19.220Z"
   },
   {
    "duration": 24388,
    "start_time": "2023-01-23T10:02:19.226Z"
   },
   {
    "duration": 22998,
    "start_time": "2023-01-23T10:02:43.616Z"
   },
   {
    "duration": 236,
    "start_time": "2023-01-23T10:03:06.616Z"
   },
   {
    "duration": 191,
    "start_time": "2023-01-23T10:03:41.914Z"
   },
   {
    "duration": 92,
    "start_time": "2023-01-23T10:03:59.063Z"
   },
   {
    "duration": 78,
    "start_time": "2023-01-23T10:04:08.193Z"
   },
   {
    "duration": 91,
    "start_time": "2023-01-23T10:04:22.735Z"
   },
   {
    "duration": 139,
    "start_time": "2023-01-23T10:04:35.022Z"
   },
   {
    "duration": 123,
    "start_time": "2023-01-23T10:04:43.151Z"
   },
   {
    "duration": 94,
    "start_time": "2023-01-23T10:04:47.827Z"
   },
   {
    "duration": 78,
    "start_time": "2023-01-23T10:04:54.095Z"
   },
   {
    "duration": 111,
    "start_time": "2023-01-23T10:05:00.526Z"
   },
   {
    "duration": 105,
    "start_time": "2023-01-23T10:05:14.011Z"
   },
   {
    "duration": 127,
    "start_time": "2023-01-23T10:05:51.551Z"
   },
   {
    "duration": 92,
    "start_time": "2023-01-23T10:06:23.012Z"
   },
   {
    "duration": 98,
    "start_time": "2023-01-23T10:07:56.552Z"
   },
   {
    "duration": 115,
    "start_time": "2023-01-23T10:07:59.723Z"
   },
   {
    "duration": 1435,
    "start_time": "2023-01-23T10:08:31.613Z"
   },
   {
    "duration": 104,
    "start_time": "2023-01-23T10:08:33.050Z"
   },
   {
    "duration": 2390,
    "start_time": "2023-01-23T10:08:33.155Z"
   },
   {
    "duration": 103,
    "start_time": "2023-01-23T10:08:35.548Z"
   },
   {
    "duration": 425,
    "start_time": "2023-01-23T10:08:35.653Z"
   },
   {
    "duration": 2674,
    "start_time": "2023-01-23T10:08:36.083Z"
   },
   {
    "duration": 98,
    "start_time": "2023-01-23T10:08:38.759Z"
   },
   {
    "duration": 102,
    "start_time": "2023-01-23T10:08:38.862Z"
   },
   {
    "duration": 197,
    "start_time": "2023-01-23T10:08:38.968Z"
   },
   {
    "duration": 1436,
    "start_time": "2023-01-23T10:08:53.651Z"
   },
   {
    "duration": 94,
    "start_time": "2023-01-23T10:08:55.089Z"
   },
   {
    "duration": 2449,
    "start_time": "2023-01-23T10:08:55.184Z"
   },
   {
    "duration": 58,
    "start_time": "2023-01-23T10:08:57.635Z"
   },
   {
    "duration": 152,
    "start_time": "2023-01-23T10:08:57.697Z"
   },
   {
    "duration": 2469,
    "start_time": "2023-01-23T10:08:57.854Z"
   },
   {
    "duration": 123,
    "start_time": "2023-01-23T10:09:00.326Z"
   },
   {
    "duration": 102,
    "start_time": "2023-01-23T10:09:00.451Z"
   },
   {
    "duration": 405,
    "start_time": "2023-01-23T10:09:00.555Z"
   },
   {
    "duration": 23372,
    "start_time": "2023-01-23T10:09:00.965Z"
   },
   {
    "duration": 17,
    "start_time": "2023-01-23T10:09:24.339Z"
   },
   {
    "duration": 104,
    "start_time": "2023-01-23T10:09:24.357Z"
   },
   {
    "duration": 24711,
    "start_time": "2023-01-23T10:09:24.463Z"
   },
   {
    "duration": 6,
    "start_time": "2023-01-23T10:09:49.176Z"
   },
   {
    "duration": 281,
    "start_time": "2023-01-23T10:09:49.184Z"
   },
   {
    "duration": 18,
    "start_time": "2023-01-23T10:09:49.468Z"
   },
   {
    "duration": 161,
    "start_time": "2023-01-23T10:09:49.488Z"
   },
   {
    "duration": 13,
    "start_time": "2023-01-23T10:15:19.822Z"
   },
   {
    "duration": 11,
    "start_time": "2023-01-23T10:15:35.950Z"
   },
   {
    "duration": 25,
    "start_time": "2023-01-23T10:15:45.562Z"
   },
   {
    "duration": 32,
    "start_time": "2023-01-23T10:19:48.620Z"
   },
   {
    "duration": 4,
    "start_time": "2023-01-24T08:15:31.327Z"
   },
   {
    "duration": 46,
    "start_time": "2023-01-24T08:17:00.866Z"
   },
   {
    "duration": 1733,
    "start_time": "2023-01-24T08:17:09.130Z"
   },
   {
    "duration": 228,
    "start_time": "2023-01-24T08:17:10.865Z"
   },
   {
    "duration": 2431,
    "start_time": "2023-01-24T08:17:11.095Z"
   },
   {
    "duration": 53,
    "start_time": "2023-01-24T08:17:13.528Z"
   },
   {
    "duration": 210,
    "start_time": "2023-01-24T08:17:13.583Z"
   },
   {
    "duration": 2612,
    "start_time": "2023-01-24T08:17:13.795Z"
   },
   {
    "duration": 191,
    "start_time": "2023-01-24T08:17:16.408Z"
   },
   {
    "duration": 17,
    "start_time": "2023-01-24T08:17:16.691Z"
   },
   {
    "duration": 200,
    "start_time": "2023-01-24T08:17:16.792Z"
   },
   {
    "duration": 22202,
    "start_time": "2023-01-24T08:17:16.995Z"
   },
   {
    "duration": 12,
    "start_time": "2023-01-24T08:17:39.199Z"
   },
   {
    "duration": 187,
    "start_time": "2023-01-24T08:17:39.213Z"
   },
   {
    "duration": 23969,
    "start_time": "2023-01-24T08:17:39.402Z"
   },
   {
    "duration": 4,
    "start_time": "2023-01-24T08:18:03.373Z"
   },
   {
    "duration": 259,
    "start_time": "2023-01-24T08:18:03.379Z"
   },
   {
    "duration": 19,
    "start_time": "2023-01-24T08:18:03.639Z"
   },
   {
    "duration": 36,
    "start_time": "2023-01-24T08:18:03.660Z"
   },
   {
    "duration": 3,
    "start_time": "2023-01-24T08:18:03.698Z"
   },
   {
    "duration": 3,
    "start_time": "2023-01-24T08:18:40.156Z"
   },
   {
    "duration": 4,
    "start_time": "2023-01-24T08:18:47.726Z"
   },
   {
    "duration": 5,
    "start_time": "2023-01-24T08:20:21.638Z"
   },
   {
    "duration": 7,
    "start_time": "2023-01-24T08:21:03.025Z"
   },
   {
    "duration": 35,
    "start_time": "2023-01-24T08:23:53.168Z"
   },
   {
    "duration": 31,
    "start_time": "2023-01-24T08:24:16.328Z"
   },
   {
    "duration": 31,
    "start_time": "2023-01-24T08:24:24.192Z"
   },
   {
    "duration": 33,
    "start_time": "2023-01-24T08:24:27.783Z"
   },
   {
    "duration": 39,
    "start_time": "2023-01-24T08:24:30.423Z"
   },
   {
    "duration": 20,
    "start_time": "2023-01-24T08:24:35.046Z"
   },
   {
    "duration": 20,
    "start_time": "2023-01-24T08:24:36.216Z"
   },
   {
    "duration": 15,
    "start_time": "2023-01-24T08:25:02.126Z"
   },
   {
    "duration": 11,
    "start_time": "2023-01-24T08:25:50.783Z"
   },
   {
    "duration": 12,
    "start_time": "2023-01-24T08:25:55.129Z"
   },
   {
    "duration": 75,
    "start_time": "2023-01-24T08:26:39.904Z"
   },
   {
    "duration": 4,
    "start_time": "2023-01-24T08:27:07.001Z"
   },
   {
    "duration": 8,
    "start_time": "2023-01-24T08:30:14.610Z"
   },
   {
    "duration": 10,
    "start_time": "2023-01-24T08:30:21.071Z"
   }
  ],
  "celltoolbar": "Необработанный формат ячейки",
  "kernelspec": {
   "display_name": "Python 3 (ipykernel)",
   "language": "python",
   "name": "python3"
  },
  "language_info": {
   "codemirror_mode": {
    "name": "ipython",
    "version": 3
   },
   "file_extension": ".py",
   "mimetype": "text/x-python",
   "name": "python",
   "nbconvert_exporter": "python",
   "pygments_lexer": "ipython3",
   "version": "3.9.5"
  },
  "toc": {
   "base_numbering": 1,
   "nav_menu": {},
   "number_sections": true,
   "sideBar": true,
   "skip_h1_title": true,
   "title_cell": "Содержание",
   "title_sidebar": "Contents",
   "toc_cell": true,
   "toc_position": {
    "height": "calc(100% - 180px)",
    "left": "10px",
    "top": "150px",
    "width": "409.078px"
   },
   "toc_section_display": true,
   "toc_window_display": false
  }
 },
 "nbformat": 4,
 "nbformat_minor": 2
}
